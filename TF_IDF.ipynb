{
  "nbformat": 4,
  "nbformat_minor": 0,
  "metadata": {
    "colab": {
      "name": "TF-IDF.ipynb",
      "provenance": [],
      "collapsed_sections": []
    },
    "kernelspec": {
      "name": "python3",
      "display_name": "Python 3"
    }
  },
  "cells": [
    {
      "cell_type": "code",
      "metadata": {
        "id": "AwxumciQdATF",
        "colab_type": "code",
        "outputId": "1b24a159-13e6-4fd3-bdbe-125489487723",
        "colab": {
          "base_uri": "https://localhost:8080/",
          "height": 52
        }
      },
      "source": [
        "import pandas as pd\n",
        "import numpy as np\n",
        "import nltk\n",
        "nltk.download('stopwords')\n",
        "stopwords = nltk.corpus.stopwords.words('english')"
      ],
      "execution_count": 19,
      "outputs": [
        {
          "output_type": "stream",
          "text": [
            "[nltk_data] Downloading package stopwords to /root/nltk_data...\n",
            "[nltk_data]   Package stopwords is already up-to-date!\n"
          ],
          "name": "stdout"
        }
      ]
    },
    {
      "cell_type": "code",
      "metadata": {
        "id": "Z93cxRoofxZW",
        "colab_type": "code",
        "outputId": "68c1dbf2-ae7e-4b8d-c6c0-0521cfb0e12b",
        "colab": {
          "base_uri": "https://localhost:8080/",
          "height": 347
        }
      },
      "source": [
        "from nltk.tokenize import TreebankWordTokenizer\n",
        "sentence = \"\"\"The faster Harry got to the store, the faster Harry, the faster, would get home.\"\"\"\n",
        "tokenizer = TreebankWordTokenizer()\n",
        "tokens = tokenizer.tokenize(sentence.lower())\n",
        "tokens"
      ],
      "execution_count": 20,
      "outputs": [
        {
          "output_type": "execute_result",
          "data": {
            "text/plain": [
              "['the',\n",
              " 'faster',\n",
              " 'harry',\n",
              " 'got',\n",
              " 'to',\n",
              " 'the',\n",
              " 'store',\n",
              " ',',\n",
              " 'the',\n",
              " 'faster',\n",
              " 'harry',\n",
              " ',',\n",
              " 'the',\n",
              " 'faster',\n",
              " ',',\n",
              " 'would',\n",
              " 'get',\n",
              " 'home',\n",
              " '.']"
            ]
          },
          "metadata": {
            "tags": []
          },
          "execution_count": 20
        }
      ]
    },
    {
      "cell_type": "code",
      "metadata": {
        "id": "IDDxIo4ehuLx",
        "colab_type": "code",
        "outputId": "7ec55b11-8b0a-4ea0-ea1b-5b05aa7c1a0a",
        "colab": {
          "base_uri": "https://localhost:8080/",
          "height": 208
        }
      },
      "source": [
        "from collections import Counter\n",
        "bag_of_words = Counter(tokens)\n",
        "bag_of_words"
      ],
      "execution_count": 21,
      "outputs": [
        {
          "output_type": "execute_result",
          "data": {
            "text/plain": [
              "Counter({',': 3,\n",
              "         '.': 1,\n",
              "         'faster': 3,\n",
              "         'get': 1,\n",
              "         'got': 1,\n",
              "         'harry': 2,\n",
              "         'home': 1,\n",
              "         'store': 1,\n",
              "         'the': 4,\n",
              "         'to': 1,\n",
              "         'would': 1})"
            ]
          },
          "metadata": {
            "tags": []
          },
          "execution_count": 21
        }
      ]
    },
    {
      "cell_type": "code",
      "metadata": {
        "id": "0zYuCKIOiCYS",
        "colab_type": "code",
        "outputId": "a8d5f767-e707-456c-ea04-70bb277abd69",
        "colab": {
          "base_uri": "https://localhost:8080/",
          "height": 35
        }
      },
      "source": [
        "bag_of_words.most_common(4)"
      ],
      "execution_count": 22,
      "outputs": [
        {
          "output_type": "execute_result",
          "data": {
            "text/plain": [
              "[('the', 4), ('faster', 3), (',', 3), ('harry', 2)]"
            ]
          },
          "metadata": {
            "tags": []
          },
          "execution_count": 22
        }
      ]
    },
    {
      "cell_type": "code",
      "metadata": {
        "id": "XCZsk5Keif0z",
        "colab_type": "code",
        "outputId": "d6bda928-9eaa-4359-8550-150595607311",
        "colab": {
          "base_uri": "https://localhost:8080/",
          "height": 35
        }
      },
      "source": [
        "times_harry_appears = bag_of_words['harry']\n",
        "num_unique_words = len(bag_of_words)\n",
        "tf = times_harry_appears/num_unique_words\n",
        "tf"
      ],
      "execution_count": 23,
      "outputs": [
        {
          "output_type": "execute_result",
          "data": {
            "text/plain": [
              "0.18181818181818182"
            ]
          },
          "metadata": {
            "tags": []
          },
          "execution_count": 23
        }
      ]
    },
    {
      "cell_type": "code",
      "metadata": {
        "id": "P-vFFV_7jScW",
        "colab_type": "code",
        "outputId": "b03a38b2-bcff-4020-952a-5f3ddf3359f5",
        "colab": {
          "base_uri": "https://localhost:8080/",
          "height": 1000
        }
      },
      "source": [
        "pip install nlpia"
      ],
      "execution_count": 24,
      "outputs": [
        {
          "output_type": "stream",
          "text": [
            "Requirement already satisfied: nlpia in /usr/local/lib/python3.6/dist-packages (0.2.14)\n",
            "Requirement already satisfied: tensorflow in /tensorflow-1.15.0/python3.6 (from nlpia) (1.15.0)\n",
            "Requirement already satisfied: pypandoc in /usr/local/lib/python3.6/dist-packages (from nlpia) (1.4)\n",
            "Requirement already satisfied: lxml in /usr/local/lib/python3.6/dist-packages (from nlpia) (4.2.6)\n",
            "Requirement already satisfied: gensim in /usr/local/lib/python3.6/dist-packages (from nlpia) (3.6.0)\n",
            "Requirement already satisfied: scipy in /usr/local/lib/python3.6/dist-packages (from nlpia) (1.4.1)\n",
            "Requirement already satisfied: tqdm in /usr/local/lib/python3.6/dist-packages (from nlpia) (4.38.0)\n",
            "Requirement already satisfied: keras in /usr/local/lib/python3.6/dist-packages (from nlpia) (2.2.5)\n",
            "Requirement already satisfied: regex in /usr/local/lib/python3.6/dist-packages (from nlpia) (2019.12.20)\n",
            "Requirement already satisfied: spacy in /usr/local/lib/python3.6/dist-packages (from nlpia) (2.2.4)\n",
            "Requirement already satisfied: pandas-datareader in /usr/local/lib/python3.6/dist-packages (from nlpia) (0.7.4)\n",
            "Requirement already satisfied: pugnlp in /usr/local/lib/python3.6/dist-packages (from nlpia) (0.2.5)\n",
            "Requirement already satisfied: scikit-learn in /usr/local/lib/python3.6/dist-packages (from nlpia) (0.22.2.post1)\n",
            "Requirement already satisfied: h5py in /usr/local/lib/python3.6/dist-packages (from nlpia) (2.8.0)\n",
            "Requirement already satisfied: matplotlib in /usr/local/lib/python3.6/dist-packages (from nlpia) (3.2.1)\n",
            "Requirement already satisfied: nltk in /usr/local/lib/python3.6/dist-packages (from nlpia) (3.2.5)\n",
            "Requirement already satisfied: html2text in /usr/local/lib/python3.6/dist-packages (from nlpia) (2020.1.16)\n",
            "Requirement already satisfied: jupyter in /usr/local/lib/python3.6/dist-packages (from nlpia) (1.0.0)\n",
            "Requirement already satisfied: seaborn in /usr/local/lib/python3.6/dist-packages (from nlpia) (0.10.0)\n",
            "Requirement already satisfied: future in /usr/local/lib/python3.6/dist-packages (from nlpia) (0.16.0)\n",
            "Requirement already satisfied: python-Levenshtein in /usr/local/lib/python3.6/dist-packages (from nlpia) (0.12.0)\n",
            "Requirement already satisfied: pandas in /usr/local/lib/python3.6/dist-packages (from nlpia) (0.25.3)\n",
            "Requirement already satisfied: plotly in /usr/local/lib/python3.6/dist-packages (from nlpia) (4.4.1)\n",
            "Requirement already satisfied: tensorboard<1.16.0,>=1.15.0 in /tensorflow-1.15.0/python3.6 (from tensorflow->nlpia) (1.15.0)\n",
            "Requirement already satisfied: protobuf>=3.6.1 in /usr/local/lib/python3.6/dist-packages (from tensorflow->nlpia) (3.10.0)\n",
            "Requirement already satisfied: numpy<2.0,>=1.16.0 in /usr/local/lib/python3.6/dist-packages (from tensorflow->nlpia) (1.18.2)\n",
            "Requirement already satisfied: wheel>=0.26 in /usr/local/lib/python3.6/dist-packages (from tensorflow->nlpia) (0.34.2)\n",
            "Requirement already satisfied: termcolor>=1.1.0 in /usr/local/lib/python3.6/dist-packages (from tensorflow->nlpia) (1.1.0)\n",
            "Requirement already satisfied: google-pasta>=0.1.6 in /usr/local/lib/python3.6/dist-packages (from tensorflow->nlpia) (0.2.0)\n",
            "Requirement already satisfied: grpcio>=1.8.6 in /usr/local/lib/python3.6/dist-packages (from tensorflow->nlpia) (1.24.3)\n",
            "Requirement already satisfied: gast==0.2.2 in /usr/local/lib/python3.6/dist-packages (from tensorflow->nlpia) (0.2.2)\n",
            "Requirement already satisfied: astor>=0.6.0 in /usr/local/lib/python3.6/dist-packages (from tensorflow->nlpia) (0.8.1)\n",
            "Requirement already satisfied: keras-preprocessing>=1.0.5 in /usr/local/lib/python3.6/dist-packages (from tensorflow->nlpia) (1.1.0)\n",
            "Requirement already satisfied: opt-einsum>=2.3.2 in /usr/local/lib/python3.6/dist-packages (from tensorflow->nlpia) (3.2.0)\n",
            "Requirement already satisfied: six>=1.10.0 in /usr/local/lib/python3.6/dist-packages (from tensorflow->nlpia) (1.12.0)\n",
            "Requirement already satisfied: keras-applications>=1.0.8 in /usr/local/lib/python3.6/dist-packages (from tensorflow->nlpia) (1.0.8)\n",
            "Requirement already satisfied: wrapt>=1.11.1 in /usr/local/lib/python3.6/dist-packages (from tensorflow->nlpia) (1.12.1)\n",
            "Requirement already satisfied: tensorflow-estimator==1.15.1 in /tensorflow-1.15.0/python3.6 (from tensorflow->nlpia) (1.15.1)\n",
            "Requirement already satisfied: absl-py>=0.7.0 in /usr/local/lib/python3.6/dist-packages (from tensorflow->nlpia) (0.9.0)\n",
            "Requirement already satisfied: pip>=8.1.0 in /usr/local/lib/python3.6/dist-packages (from pypandoc->nlpia) (19.3.1)\n",
            "Requirement already satisfied: setuptools in /usr/local/lib/python3.6/dist-packages (from pypandoc->nlpia) (46.0.0)\n",
            "Requirement already satisfied: smart-open>=1.2.1 in /usr/local/lib/python3.6/dist-packages (from gensim->nlpia) (1.10.0)\n",
            "Requirement already satisfied: pyyaml in /usr/local/lib/python3.6/dist-packages (from keras->nlpia) (3.13)\n",
            "Requirement already satisfied: wasabi<1.1.0,>=0.4.0 in /usr/local/lib/python3.6/dist-packages (from spacy->nlpia) (0.6.0)\n",
            "Requirement already satisfied: thinc==7.4.0 in /usr/local/lib/python3.6/dist-packages (from spacy->nlpia) (7.4.0)\n",
            "Requirement already satisfied: plac<1.2.0,>=0.9.6 in /usr/local/lib/python3.6/dist-packages (from spacy->nlpia) (1.1.3)\n",
            "Requirement already satisfied: catalogue<1.1.0,>=0.0.7 in /usr/local/lib/python3.6/dist-packages (from spacy->nlpia) (1.0.0)\n",
            "Requirement already satisfied: requests<3.0.0,>=2.13.0 in /usr/local/lib/python3.6/dist-packages (from spacy->nlpia) (2.21.0)\n",
            "Requirement already satisfied: srsly<1.1.0,>=1.0.2 in /usr/local/lib/python3.6/dist-packages (from spacy->nlpia) (1.0.2)\n",
            "Requirement already satisfied: cymem<2.1.0,>=2.0.2 in /usr/local/lib/python3.6/dist-packages (from spacy->nlpia) (2.0.3)\n",
            "Requirement already satisfied: murmurhash<1.1.0,>=0.28.0 in /usr/local/lib/python3.6/dist-packages (from spacy->nlpia) (1.0.2)\n",
            "Requirement already satisfied: preshed<3.1.0,>=3.0.2 in /usr/local/lib/python3.6/dist-packages (from spacy->nlpia) (3.0.2)\n",
            "Requirement already satisfied: blis<0.5.0,>=0.4.0 in /usr/local/lib/python3.6/dist-packages (from spacy->nlpia) (0.4.1)\n",
            "Requirement already satisfied: coverage in /usr/local/lib/python3.6/dist-packages (from pugnlp->nlpia) (3.7.1)\n",
            "Requirement already satisfied: fuzzywuzzy in /usr/local/lib/python3.6/dist-packages (from pugnlp->nlpia) (0.18.0)\n",
            "Requirement already satisfied: python-slugify in /usr/local/lib/python3.6/dist-packages (from pugnlp->nlpia) (4.0.0)\n",
            "Requirement already satisfied: joblib>=0.11 in /usr/local/lib/python3.6/dist-packages (from scikit-learn->nlpia) (0.14.1)\n",
            "Requirement already satisfied: cycler>=0.10 in /usr/local/lib/python3.6/dist-packages (from matplotlib->nlpia) (0.10.0)\n",
            "Requirement already satisfied: pyparsing!=2.0.4,!=2.1.2,!=2.1.6,>=2.0.1 in /usr/local/lib/python3.6/dist-packages (from matplotlib->nlpia) (2.4.6)\n",
            "Requirement already satisfied: python-dateutil>=2.1 in /usr/local/lib/python3.6/dist-packages (from matplotlib->nlpia) (2.8.1)\n",
            "Requirement already satisfied: kiwisolver>=1.0.1 in /usr/local/lib/python3.6/dist-packages (from matplotlib->nlpia) (1.1.0)\n",
            "Requirement already satisfied: nbconvert in /usr/local/lib/python3.6/dist-packages (from jupyter->nlpia) (5.6.1)\n",
            "Requirement already satisfied: ipywidgets in /usr/local/lib/python3.6/dist-packages (from jupyter->nlpia) (7.5.1)\n",
            "Requirement already satisfied: notebook in /usr/local/lib/python3.6/dist-packages (from jupyter->nlpia) (5.2.2)\n",
            "Requirement already satisfied: qtconsole in /usr/local/lib/python3.6/dist-packages (from jupyter->nlpia) (4.7.1)\n",
            "Requirement already satisfied: jupyter-console in /usr/local/lib/python3.6/dist-packages (from jupyter->nlpia) (5.2.0)\n",
            "Requirement already satisfied: ipykernel in /usr/local/lib/python3.6/dist-packages (from jupyter->nlpia) (4.6.1)\n",
            "Requirement already satisfied: pytz>=2017.2 in /usr/local/lib/python3.6/dist-packages (from pandas->nlpia) (2018.9)\n",
            "Requirement already satisfied: retrying>=1.3.3 in /usr/local/lib/python3.6/dist-packages (from plotly->nlpia) (1.3.3)\n",
            "Requirement already satisfied: werkzeug>=0.11.15 in /usr/local/lib/python3.6/dist-packages (from tensorboard<1.16.0,>=1.15.0->tensorflow->nlpia) (1.0.0)\n",
            "Requirement already satisfied: markdown>=2.6.8 in /usr/local/lib/python3.6/dist-packages (from tensorboard<1.16.0,>=1.15.0->tensorflow->nlpia) (3.2.1)\n",
            "Requirement already satisfied: boto3 in /usr/local/lib/python3.6/dist-packages (from smart-open>=1.2.1->gensim->nlpia) (1.12.26)\n",
            "Requirement already satisfied: google-cloud-storage in /usr/local/lib/python3.6/dist-packages (from smart-open>=1.2.1->gensim->nlpia) (1.18.1)\n",
            "Requirement already satisfied: importlib-metadata>=0.20; python_version < \"3.8\" in /usr/local/lib/python3.6/dist-packages (from catalogue<1.1.0,>=0.0.7->spacy->nlpia) (1.5.0)\n",
            "Requirement already satisfied: urllib3<1.25,>=1.21.1 in /usr/local/lib/python3.6/dist-packages (from requests<3.0.0,>=2.13.0->spacy->nlpia) (1.24.3)\n",
            "Requirement already satisfied: idna<2.9,>=2.5 in /usr/local/lib/python3.6/dist-packages (from requests<3.0.0,>=2.13.0->spacy->nlpia) (2.8)\n",
            "Requirement already satisfied: chardet<3.1.0,>=3.0.2 in /usr/local/lib/python3.6/dist-packages (from requests<3.0.0,>=2.13.0->spacy->nlpia) (3.0.4)\n",
            "Requirement already satisfied: certifi>=2017.4.17 in /usr/local/lib/python3.6/dist-packages (from requests<3.0.0,>=2.13.0->spacy->nlpia) (2019.11.28)\n",
            "Requirement already satisfied: text-unidecode>=1.3 in /usr/local/lib/python3.6/dist-packages (from python-slugify->pugnlp->nlpia) (1.3)\n",
            "Requirement already satisfied: pygments in /usr/local/lib/python3.6/dist-packages (from nbconvert->jupyter->nlpia) (2.1.3)\n",
            "Requirement already satisfied: traitlets>=4.2 in /usr/local/lib/python3.6/dist-packages (from nbconvert->jupyter->nlpia) (4.3.3)\n",
            "Requirement already satisfied: bleach in /usr/local/lib/python3.6/dist-packages (from nbconvert->jupyter->nlpia) (3.1.3)\n",
            "Requirement already satisfied: jupyter-core in /usr/local/lib/python3.6/dist-packages (from nbconvert->jupyter->nlpia) (4.6.3)\n",
            "Requirement already satisfied: defusedxml in /usr/local/lib/python3.6/dist-packages (from nbconvert->jupyter->nlpia) (0.6.0)\n",
            "Requirement already satisfied: entrypoints>=0.2.2 in /usr/local/lib/python3.6/dist-packages (from nbconvert->jupyter->nlpia) (0.3)\n",
            "Requirement already satisfied: pandocfilters>=1.4.1 in /usr/local/lib/python3.6/dist-packages (from nbconvert->jupyter->nlpia) (1.4.2)\n",
            "Requirement already satisfied: nbformat>=4.4 in /usr/local/lib/python3.6/dist-packages (from nbconvert->jupyter->nlpia) (5.0.4)\n",
            "Requirement already satisfied: jinja2>=2.4 in /usr/local/lib/python3.6/dist-packages (from nbconvert->jupyter->nlpia) (2.11.1)\n",
            "Requirement already satisfied: testpath in /usr/local/lib/python3.6/dist-packages (from nbconvert->jupyter->nlpia) (0.4.4)\n",
            "Requirement already satisfied: mistune<2,>=0.8.1 in /usr/local/lib/python3.6/dist-packages (from nbconvert->jupyter->nlpia) (0.8.4)\n",
            "Requirement already satisfied: widgetsnbextension~=3.5.0 in /usr/local/lib/python3.6/dist-packages (from ipywidgets->jupyter->nlpia) (3.5.1)\n",
            "Requirement already satisfied: ipython>=4.0.0; python_version >= \"3.3\" in /usr/local/lib/python3.6/dist-packages (from ipywidgets->jupyter->nlpia) (5.5.0)\n",
            "Requirement already satisfied: tornado>=4 in /usr/local/lib/python3.6/dist-packages (from notebook->jupyter->nlpia) (4.5.3)\n",
            "Requirement already satisfied: jupyter-client in /usr/local/lib/python3.6/dist-packages (from notebook->jupyter->nlpia) (5.3.4)\n",
            "Requirement already satisfied: terminado>=0.3.3; sys_platform != \"win32\" in /usr/local/lib/python3.6/dist-packages (from notebook->jupyter->nlpia) (0.8.3)\n",
            "Requirement already satisfied: ipython-genutils in /usr/local/lib/python3.6/dist-packages (from notebook->jupyter->nlpia) (0.2.0)\n",
            "Requirement already satisfied: qtpy in /usr/local/lib/python3.6/dist-packages (from qtconsole->jupyter->nlpia) (1.9.0)\n",
            "Requirement already satisfied: prompt-toolkit<2.0.0,>=1.0.0 in /usr/local/lib/python3.6/dist-packages (from jupyter-console->jupyter->nlpia) (1.0.18)\n",
            "Requirement already satisfied: jmespath<1.0.0,>=0.7.1 in /usr/local/lib/python3.6/dist-packages (from boto3->smart-open>=1.2.1->gensim->nlpia) (0.9.5)\n",
            "Requirement already satisfied: botocore<1.16.0,>=1.15.26 in /usr/local/lib/python3.6/dist-packages (from boto3->smart-open>=1.2.1->gensim->nlpia) (1.15.26)\n",
            "Requirement already satisfied: s3transfer<0.4.0,>=0.3.0 in /usr/local/lib/python3.6/dist-packages (from boto3->smart-open>=1.2.1->gensim->nlpia) (0.3.3)\n",
            "Requirement already satisfied: google-resumable-media<0.5.0dev,>=0.3.1 in /usr/local/lib/python3.6/dist-packages (from google-cloud-storage->smart-open>=1.2.1->gensim->nlpia) (0.4.1)\n",
            "Requirement already satisfied: google-cloud-core<2.0dev,>=1.0.0 in /usr/local/lib/python3.6/dist-packages (from google-cloud-storage->smart-open>=1.2.1->gensim->nlpia) (1.0.3)\n",
            "Requirement already satisfied: google-auth>=1.2.0 in /usr/local/lib/python3.6/dist-packages (from google-cloud-storage->smart-open>=1.2.1->gensim->nlpia) (1.7.2)\n",
            "Requirement already satisfied: zipp>=0.5 in /usr/local/lib/python3.6/dist-packages (from importlib-metadata>=0.20; python_version < \"3.8\"->catalogue<1.1.0,>=0.0.7->spacy->nlpia) (3.1.0)\n",
            "Requirement already satisfied: decorator in /usr/local/lib/python3.6/dist-packages (from traitlets>=4.2->nbconvert->jupyter->nlpia) (4.4.2)\n",
            "Requirement already satisfied: webencodings in /usr/local/lib/python3.6/dist-packages (from bleach->nbconvert->jupyter->nlpia) (0.5.1)\n",
            "Requirement already satisfied: jsonschema!=2.5.0,>=2.4 in /usr/local/lib/python3.6/dist-packages (from nbformat>=4.4->nbconvert->jupyter->nlpia) (2.6.0)\n",
            "Requirement already satisfied: MarkupSafe>=0.23 in /usr/local/lib/python3.6/dist-packages (from jinja2>=2.4->nbconvert->jupyter->nlpia) (1.1.1)\n",
            "Requirement already satisfied: pexpect; sys_platform != \"win32\" in /usr/local/lib/python3.6/dist-packages (from ipython>=4.0.0; python_version >= \"3.3\"->ipywidgets->jupyter->nlpia) (4.8.0)\n",
            "Requirement already satisfied: simplegeneric>0.8 in /usr/local/lib/python3.6/dist-packages (from ipython>=4.0.0; python_version >= \"3.3\"->ipywidgets->jupyter->nlpia) (0.8.1)\n",
            "Requirement already satisfied: pickleshare in /usr/local/lib/python3.6/dist-packages (from ipython>=4.0.0; python_version >= \"3.3\"->ipywidgets->jupyter->nlpia) (0.7.5)\n",
            "Requirement already satisfied: pyzmq>=13 in /usr/local/lib/python3.6/dist-packages (from jupyter-client->notebook->jupyter->nlpia) (17.0.0)\n",
            "Requirement already satisfied: ptyprocess; os_name != \"nt\" in /usr/local/lib/python3.6/dist-packages (from terminado>=0.3.3; sys_platform != \"win32\"->notebook->jupyter->nlpia) (0.6.0)\n",
            "Requirement already satisfied: wcwidth in /usr/local/lib/python3.6/dist-packages (from prompt-toolkit<2.0.0,>=1.0.0->jupyter-console->jupyter->nlpia) (0.1.8)\n",
            "Requirement already satisfied: docutils<0.16,>=0.10 in /usr/local/lib/python3.6/dist-packages (from botocore<1.16.0,>=1.15.26->boto3->smart-open>=1.2.1->gensim->nlpia) (0.15.2)\n",
            "Requirement already satisfied: google-api-core<2.0.0dev,>=1.14.0 in /usr/local/lib/python3.6/dist-packages (from google-cloud-core<2.0dev,>=1.0.0->google-cloud-storage->smart-open>=1.2.1->gensim->nlpia) (1.16.0)\n",
            "Requirement already satisfied: cachetools<3.2,>=2.0.0 in /usr/local/lib/python3.6/dist-packages (from google-auth>=1.2.0->google-cloud-storage->smart-open>=1.2.1->gensim->nlpia) (3.1.1)\n",
            "Requirement already satisfied: rsa<4.1,>=3.1.4 in /usr/local/lib/python3.6/dist-packages (from google-auth>=1.2.0->google-cloud-storage->smart-open>=1.2.1->gensim->nlpia) (4.0)\n",
            "Requirement already satisfied: pyasn1-modules>=0.2.1 in /usr/local/lib/python3.6/dist-packages (from google-auth>=1.2.0->google-cloud-storage->smart-open>=1.2.1->gensim->nlpia) (0.2.8)\n",
            "Requirement already satisfied: googleapis-common-protos<2.0dev,>=1.6.0 in /usr/local/lib/python3.6/dist-packages (from google-api-core<2.0.0dev,>=1.14.0->google-cloud-core<2.0dev,>=1.0.0->google-cloud-storage->smart-open>=1.2.1->gensim->nlpia) (1.51.0)\n",
            "Requirement already satisfied: pyasn1>=0.1.3 in /usr/local/lib/python3.6/dist-packages (from rsa<4.1,>=3.1.4->google-auth>=1.2.0->google-cloud-storage->smart-open>=1.2.1->gensim->nlpia) (0.4.8)\n"
          ],
          "name": "stdout"
        }
      ]
    },
    {
      "cell_type": "code",
      "metadata": {
        "id": "NV5MD0zBinxS",
        "colab_type": "code",
        "outputId": "375bbe46-7926-43c8-b288-5bdd03daec0a",
        "colab": {
          "base_uri": "https://localhost:8080/",
          "height": 1000
        }
      },
      "source": [
        "from collections import Counter\n",
        "from nltk.tokenize import TreebankWordTokenizer\n",
        "tokenizer = TreebankWordTokenizer()\n",
        "from nlpia.data.loaders import kite_text\n",
        "tokens = tokenizer.tokenize(kite_text.lower())\n",
        "tokens = [x for x in tokens if x not in stopwords]\n",
        "token_counts = Counter(tokens)\n",
        "token_counts"
      ],
      "execution_count": 25,
      "outputs": [
        {
          "output_type": "execute_result",
          "data": {
            "text/plain": [
              "Counter({\"'s\": 2,\n",
              "         '(': 1,\n",
              "         ')': 1,\n",
              "         ',': 15,\n",
              "         '.': 2,\n",
              "         ';': 2,\n",
              "         'activities': 1,\n",
              "         'aerial': 1,\n",
              "         'air': 2,\n",
              "         'along': 1,\n",
              "         'also': 3,\n",
              "         'anchor': 1,\n",
              "         'anchors': 1,\n",
              "         'anchors.': 2,\n",
              "         'angle': 1,\n",
              "         'apply': 1,\n",
              "         'around': 1,\n",
              "         'art': 1,\n",
              "         'attached.': 1,\n",
              "         'ballet': 1,\n",
              "         'balloon': 1,\n",
              "         'boat': 1,\n",
              "         'bridle': 2,\n",
              "         'buggying': 1,\n",
              "         'called': 2,\n",
              "         'competition.': 1,\n",
              "         'components': 1,\n",
              "         'comprising': 1,\n",
              "         'consists': 2,\n",
              "         'correct': 1,\n",
              "         'craft': 2,\n",
              "         'create': 1,\n",
              "         'designed': 2,\n",
              "         'different': 1,\n",
              "         'direction': 1,\n",
              "         'drag': 2,\n",
              "         'drag.': 1,\n",
              "         'e.g.': 1,\n",
              "         'even': 2,\n",
              "         'face': 1,\n",
              "         'festivals': 1,\n",
              "         'fishing': 1,\n",
              "         'fixed': 1,\n",
              "         'flight': 1,\n",
              "         'flow': 1,\n",
              "         'flown': 3,\n",
              "         'flows': 1,\n",
              "         'fluid': 1,\n",
              "         'force': 2,\n",
              "         'forces': 1,\n",
              "         'free-falling': 1,\n",
              "         'fugitive': 1,\n",
              "         'generate': 1,\n",
              "         'generated': 1,\n",
              "         'generates': 1,\n",
              "         'guide': 1,\n",
              "         'heavier-than-air': 1,\n",
              "         'high': 1,\n",
              "         'history': 1,\n",
              "         'horizontal': 1,\n",
              "         'hybrid': 1,\n",
              "         'individually': 1,\n",
              "         'interaction': 1,\n",
              "         'it.': 1,\n",
              "         'kite': 16,\n",
              "         'kite.': 1,\n",
              "         'kites': 8,\n",
              "         'kiting': 3,\n",
              "         'kiting.': 1,\n",
              "         'kytoon.': 1,\n",
              "         'landboarding': 1,\n",
              "         'large': 1,\n",
              "         'launch': 1,\n",
              "         'lift': 4,\n",
              "         'lifting': 1,\n",
              "         'lighter-than-air': 1,\n",
              "         'line': 1,\n",
              "         'lines': 1,\n",
              "         'liquids': 1,\n",
              "         'long': 1,\n",
              "         'low': 1,\n",
              "         'made': 1,\n",
              "         'man-lifting': 1,\n",
              "         'many': 1,\n",
              "         'may': 4,\n",
              "         'meets': 1,\n",
              "         'moving': 2,\n",
              "         'multi-line': 1,\n",
              "         'needed': 1,\n",
              "         'new': 1,\n",
              "         'often': 2,\n",
              "         'one': 1,\n",
              "         'opposed': 1,\n",
              "         'paragliders': 1,\n",
              "         'parakites': 1,\n",
              "         'part': 1,\n",
              "         'person': 1,\n",
              "         'point': 1,\n",
              "         'point.': 1,\n",
              "         'power': 2,\n",
              "         'practical': 1,\n",
              "         'pressure': 2,\n",
              "         'principles': 1,\n",
              "         'producing': 1,\n",
              "         'react': 1,\n",
              "         'recreation': 1,\n",
              "         'resultant': 1,\n",
              "         'running': 1,\n",
              "         'sailplane': 1,\n",
              "         'sets': 1,\n",
              "         'single': 1,\n",
              "         'snow': 1,\n",
              "         'sometimes': 1,\n",
              "         'sport': 1,\n",
              "         'static': 1,\n",
              "         'steerable': 1,\n",
              "         'still': 1,\n",
              "         'surface': 2,\n",
              "         'surfaces': 1,\n",
              "         'surfing': 1,\n",
              "         'sustains': 1,\n",
              "         'system': 1,\n",
              "         'technical': 2,\n",
              "         'tension': 1,\n",
              "         'tether': 1,\n",
              "         'tether-set-coupled': 1,\n",
              "         'tethered': 2,\n",
              "         'tethers': 2,\n",
              "         'though': 1,\n",
              "         'towing': 1,\n",
              "         'traditionally': 1,\n",
              "         'trend': 1,\n",
              "         'types': 1,\n",
              "         'untraditionally': 1,\n",
              "         'used': 2,\n",
              "         'uses.': 1,\n",
              "         'varied': 1,\n",
              "         'vector': 1,\n",
              "         'vehicle': 1,\n",
              "         'water.': 1,\n",
              "         'well': 1,\n",
              "         'wind': 2,\n",
              "         'wind.': 1,\n",
              "         'wing': 5,\n",
              "         'wings': 1,\n",
              "         'wings.': 1,\n",
              "         'worldwide.': 1})"
            ]
          },
          "metadata": {
            "tags": []
          },
          "execution_count": 25
        }
      ]
    },
    {
      "cell_type": "code",
      "metadata": {
        "id": "zVKI5W8bjHyf",
        "colab_type": "code",
        "outputId": "c62a6b8a-54ae-46f8-d06e-bdecedc640bb",
        "colab": {
          "base_uri": "https://localhost:8080/",
          "height": 1000
        }
      },
      "source": [
        "kite_counts = Counter(tokens)\n",
        "kite_counts"
      ],
      "execution_count": 26,
      "outputs": [
        {
          "output_type": "execute_result",
          "data": {
            "text/plain": [
              "Counter({\"'s\": 2,\n",
              "         '(': 1,\n",
              "         ')': 1,\n",
              "         ',': 15,\n",
              "         '.': 2,\n",
              "         ';': 2,\n",
              "         'activities': 1,\n",
              "         'aerial': 1,\n",
              "         'air': 2,\n",
              "         'along': 1,\n",
              "         'also': 3,\n",
              "         'anchor': 1,\n",
              "         'anchors': 1,\n",
              "         'anchors.': 2,\n",
              "         'angle': 1,\n",
              "         'apply': 1,\n",
              "         'around': 1,\n",
              "         'art': 1,\n",
              "         'attached.': 1,\n",
              "         'ballet': 1,\n",
              "         'balloon': 1,\n",
              "         'boat': 1,\n",
              "         'bridle': 2,\n",
              "         'buggying': 1,\n",
              "         'called': 2,\n",
              "         'competition.': 1,\n",
              "         'components': 1,\n",
              "         'comprising': 1,\n",
              "         'consists': 2,\n",
              "         'correct': 1,\n",
              "         'craft': 2,\n",
              "         'create': 1,\n",
              "         'designed': 2,\n",
              "         'different': 1,\n",
              "         'direction': 1,\n",
              "         'drag': 2,\n",
              "         'drag.': 1,\n",
              "         'e.g.': 1,\n",
              "         'even': 2,\n",
              "         'face': 1,\n",
              "         'festivals': 1,\n",
              "         'fishing': 1,\n",
              "         'fixed': 1,\n",
              "         'flight': 1,\n",
              "         'flow': 1,\n",
              "         'flown': 3,\n",
              "         'flows': 1,\n",
              "         'fluid': 1,\n",
              "         'force': 2,\n",
              "         'forces': 1,\n",
              "         'free-falling': 1,\n",
              "         'fugitive': 1,\n",
              "         'generate': 1,\n",
              "         'generated': 1,\n",
              "         'generates': 1,\n",
              "         'guide': 1,\n",
              "         'heavier-than-air': 1,\n",
              "         'high': 1,\n",
              "         'history': 1,\n",
              "         'horizontal': 1,\n",
              "         'hybrid': 1,\n",
              "         'individually': 1,\n",
              "         'interaction': 1,\n",
              "         'it.': 1,\n",
              "         'kite': 16,\n",
              "         'kite.': 1,\n",
              "         'kites': 8,\n",
              "         'kiting': 3,\n",
              "         'kiting.': 1,\n",
              "         'kytoon.': 1,\n",
              "         'landboarding': 1,\n",
              "         'large': 1,\n",
              "         'launch': 1,\n",
              "         'lift': 4,\n",
              "         'lifting': 1,\n",
              "         'lighter-than-air': 1,\n",
              "         'line': 1,\n",
              "         'lines': 1,\n",
              "         'liquids': 1,\n",
              "         'long': 1,\n",
              "         'low': 1,\n",
              "         'made': 1,\n",
              "         'man-lifting': 1,\n",
              "         'many': 1,\n",
              "         'may': 4,\n",
              "         'meets': 1,\n",
              "         'moving': 2,\n",
              "         'multi-line': 1,\n",
              "         'needed': 1,\n",
              "         'new': 1,\n",
              "         'often': 2,\n",
              "         'one': 1,\n",
              "         'opposed': 1,\n",
              "         'paragliders': 1,\n",
              "         'parakites': 1,\n",
              "         'part': 1,\n",
              "         'person': 1,\n",
              "         'point': 1,\n",
              "         'point.': 1,\n",
              "         'power': 2,\n",
              "         'practical': 1,\n",
              "         'pressure': 2,\n",
              "         'principles': 1,\n",
              "         'producing': 1,\n",
              "         'react': 1,\n",
              "         'recreation': 1,\n",
              "         'resultant': 1,\n",
              "         'running': 1,\n",
              "         'sailplane': 1,\n",
              "         'sets': 1,\n",
              "         'single': 1,\n",
              "         'snow': 1,\n",
              "         'sometimes': 1,\n",
              "         'sport': 1,\n",
              "         'static': 1,\n",
              "         'steerable': 1,\n",
              "         'still': 1,\n",
              "         'surface': 2,\n",
              "         'surfaces': 1,\n",
              "         'surfing': 1,\n",
              "         'sustains': 1,\n",
              "         'system': 1,\n",
              "         'technical': 2,\n",
              "         'tension': 1,\n",
              "         'tether': 1,\n",
              "         'tether-set-coupled': 1,\n",
              "         'tethered': 2,\n",
              "         'tethers': 2,\n",
              "         'though': 1,\n",
              "         'towing': 1,\n",
              "         'traditionally': 1,\n",
              "         'trend': 1,\n",
              "         'types': 1,\n",
              "         'untraditionally': 1,\n",
              "         'used': 2,\n",
              "         'uses.': 1,\n",
              "         'varied': 1,\n",
              "         'vector': 1,\n",
              "         'vehicle': 1,\n",
              "         'water.': 1,\n",
              "         'well': 1,\n",
              "         'wind': 2,\n",
              "         'wind.': 1,\n",
              "         'wing': 5,\n",
              "         'wings': 1,\n",
              "         'wings.': 1,\n",
              "         'worldwide.': 1})"
            ]
          },
          "metadata": {
            "tags": []
          },
          "execution_count": 26
        }
      ]
    },
    {
      "cell_type": "code",
      "metadata": {
        "id": "mSRe6wRnkWV7",
        "colab_type": "code",
        "outputId": "fd7d063a-f725-4386-c683-fac27f9f44a0",
        "colab": {
          "base_uri": "https://localhost:8080/",
          "height": 1000
        }
      },
      "source": [
        "document_vector = []\n",
        "doc_length = len(tokens)\n",
        "for key,value in kite_counts.most_common():\n",
        "  print(key,\" \",value)\n",
        "  document_vector.append(value/doc_length)\n",
        "\n",
        "document_vector"
      ],
      "execution_count": 27,
      "outputs": [
        {
          "output_type": "stream",
          "text": [
            "kite   16\n",
            ",   15\n",
            "kites   8\n",
            "wing   5\n",
            "lift   4\n",
            "may   4\n",
            "also   3\n",
            "kiting   3\n",
            "flown   3\n",
            "tethered   2\n",
            "craft   2\n",
            "air   2\n",
            "consists   2\n",
            "tethers   2\n",
            "anchors.   2\n",
            "often   2\n",
            "bridle   2\n",
            "wind   2\n",
            "'s   2\n",
            "designed   2\n",
            ";   2\n",
            "moving   2\n",
            "technical   2\n",
            "even   2\n",
            "called   2\n",
            "surface   2\n",
            "pressure   2\n",
            "drag   2\n",
            "force   2\n",
            ".   2\n",
            "used   2\n",
            "power   2\n",
            "traditionally   1\n",
            "heavier-than-air   1\n",
            "surfaces   1\n",
            "react   1\n",
            "create   1\n",
            "drag.   1\n",
            "wings   1\n",
            "guide   1\n",
            "face   1\n",
            "correct   1\n",
            "angle   1\n",
            "it.   1\n",
            "needed   1\n",
            "sailplane   1\n",
            "launch   1\n",
            "tether   1\n",
            "meets   1\n",
            "single   1\n",
            "point.   1\n",
            "fixed   1\n",
            "untraditionally   1\n",
            "tether-set-coupled   1\n",
            "sets   1\n",
            "though   1\n",
            "system   1\n",
            "still   1\n",
            "kite.   1\n",
            "sustains   1\n",
            "flight   1\n",
            "generated   1\n",
            "flows   1\n",
            "around   1\n",
            "producing   1\n",
            "low   1\n",
            "high   1\n",
            "wings.   1\n",
            "interaction   1\n",
            "generates   1\n",
            "horizontal   1\n",
            "along   1\n",
            "direction   1\n",
            "wind.   1\n",
            "resultant   1\n",
            "vector   1\n",
            "components   1\n",
            "opposed   1\n",
            "tension   1\n",
            "one   1\n",
            "lines   1\n",
            "attached.   1\n",
            "anchor   1\n",
            "point   1\n",
            "line   1\n",
            "static   1\n",
            "(   1\n",
            "e.g.   1\n",
            "towing   1\n",
            "running   1\n",
            "person   1\n",
            "boat   1\n",
            "free-falling   1\n",
            "anchors   1\n",
            "paragliders   1\n",
            "fugitive   1\n",
            "parakites   1\n",
            "vehicle   1\n",
            ")   1\n",
            "principles   1\n",
            "fluid   1\n",
            "flow   1\n",
            "apply   1\n",
            "liquids   1\n",
            "water.   1\n",
            "hybrid   1\n",
            "comprising   1\n",
            "lighter-than-air   1\n",
            "balloon   1\n",
            "well   1\n",
            "lifting   1\n",
            "kytoon.   1\n",
            "long   1\n",
            "varied   1\n",
            "history   1\n",
            "many   1\n",
            "different   1\n",
            "types   1\n",
            "individually   1\n",
            "festivals   1\n",
            "worldwide.   1\n",
            "recreation   1\n",
            "art   1\n",
            "practical   1\n",
            "uses.   1\n",
            "sport   1\n",
            "aerial   1\n",
            "ballet   1\n",
            "sometimes   1\n",
            "part   1\n",
            "competition.   1\n",
            "multi-line   1\n",
            "steerable   1\n",
            "generate   1\n",
            "large   1\n",
            "forces   1\n",
            "activities   1\n",
            "surfing   1\n",
            "landboarding   1\n",
            "fishing   1\n",
            "buggying   1\n",
            "new   1\n",
            "trend   1\n",
            "snow   1\n",
            "kiting.   1\n",
            "man-lifting   1\n",
            "made   1\n"
          ],
          "name": "stdout"
        },
        {
          "output_type": "execute_result",
          "data": {
            "text/plain": [
              "[0.07207207207207207,\n",
              " 0.06756756756756757,\n",
              " 0.036036036036036036,\n",
              " 0.02252252252252252,\n",
              " 0.018018018018018018,\n",
              " 0.018018018018018018,\n",
              " 0.013513513513513514,\n",
              " 0.013513513513513514,\n",
              " 0.013513513513513514,\n",
              " 0.009009009009009009,\n",
              " 0.009009009009009009,\n",
              " 0.009009009009009009,\n",
              " 0.009009009009009009,\n",
              " 0.009009009009009009,\n",
              " 0.009009009009009009,\n",
              " 0.009009009009009009,\n",
              " 0.009009009009009009,\n",
              " 0.009009009009009009,\n",
              " 0.009009009009009009,\n",
              " 0.009009009009009009,\n",
              " 0.009009009009009009,\n",
              " 0.009009009009009009,\n",
              " 0.009009009009009009,\n",
              " 0.009009009009009009,\n",
              " 0.009009009009009009,\n",
              " 0.009009009009009009,\n",
              " 0.009009009009009009,\n",
              " 0.009009009009009009,\n",
              " 0.009009009009009009,\n",
              " 0.009009009009009009,\n",
              " 0.009009009009009009,\n",
              " 0.009009009009009009,\n",
              " 0.0045045045045045045,\n",
              " 0.0045045045045045045,\n",
              " 0.0045045045045045045,\n",
              " 0.0045045045045045045,\n",
              " 0.0045045045045045045,\n",
              " 0.0045045045045045045,\n",
              " 0.0045045045045045045,\n",
              " 0.0045045045045045045,\n",
              " 0.0045045045045045045,\n",
              " 0.0045045045045045045,\n",
              " 0.0045045045045045045,\n",
              " 0.0045045045045045045,\n",
              " 0.0045045045045045045,\n",
              " 0.0045045045045045045,\n",
              " 0.0045045045045045045,\n",
              " 0.0045045045045045045,\n",
              " 0.0045045045045045045,\n",
              " 0.0045045045045045045,\n",
              " 0.0045045045045045045,\n",
              " 0.0045045045045045045,\n",
              " 0.0045045045045045045,\n",
              " 0.0045045045045045045,\n",
              " 0.0045045045045045045,\n",
              " 0.0045045045045045045,\n",
              " 0.0045045045045045045,\n",
              " 0.0045045045045045045,\n",
              " 0.0045045045045045045,\n",
              " 0.0045045045045045045,\n",
              " 0.0045045045045045045,\n",
              " 0.0045045045045045045,\n",
              " 0.0045045045045045045,\n",
              " 0.0045045045045045045,\n",
              " 0.0045045045045045045,\n",
              " 0.0045045045045045045,\n",
              " 0.0045045045045045045,\n",
              " 0.0045045045045045045,\n",
              " 0.0045045045045045045,\n",
              " 0.0045045045045045045,\n",
              " 0.0045045045045045045,\n",
              " 0.0045045045045045045,\n",
              " 0.0045045045045045045,\n",
              " 0.0045045045045045045,\n",
              " 0.0045045045045045045,\n",
              " 0.0045045045045045045,\n",
              " 0.0045045045045045045,\n",
              " 0.0045045045045045045,\n",
              " 0.0045045045045045045,\n",
              " 0.0045045045045045045,\n",
              " 0.0045045045045045045,\n",
              " 0.0045045045045045045,\n",
              " 0.0045045045045045045,\n",
              " 0.0045045045045045045,\n",
              " 0.0045045045045045045,\n",
              " 0.0045045045045045045,\n",
              " 0.0045045045045045045,\n",
              " 0.0045045045045045045,\n",
              " 0.0045045045045045045,\n",
              " 0.0045045045045045045,\n",
              " 0.0045045045045045045,\n",
              " 0.0045045045045045045,\n",
              " 0.0045045045045045045,\n",
              " 0.0045045045045045045,\n",
              " 0.0045045045045045045,\n",
              " 0.0045045045045045045,\n",
              " 0.0045045045045045045,\n",
              " 0.0045045045045045045,\n",
              " 0.0045045045045045045,\n",
              " 0.0045045045045045045,\n",
              " 0.0045045045045045045,\n",
              " 0.0045045045045045045,\n",
              " 0.0045045045045045045,\n",
              " 0.0045045045045045045,\n",
              " 0.0045045045045045045,\n",
              " 0.0045045045045045045,\n",
              " 0.0045045045045045045,\n",
              " 0.0045045045045045045,\n",
              " 0.0045045045045045045,\n",
              " 0.0045045045045045045,\n",
              " 0.0045045045045045045,\n",
              " 0.0045045045045045045,\n",
              " 0.0045045045045045045,\n",
              " 0.0045045045045045045,\n",
              " 0.0045045045045045045,\n",
              " 0.0045045045045045045,\n",
              " 0.0045045045045045045,\n",
              " 0.0045045045045045045,\n",
              " 0.0045045045045045045,\n",
              " 0.0045045045045045045,\n",
              " 0.0045045045045045045,\n",
              " 0.0045045045045045045,\n",
              " 0.0045045045045045045,\n",
              " 0.0045045045045045045,\n",
              " 0.0045045045045045045,\n",
              " 0.0045045045045045045,\n",
              " 0.0045045045045045045,\n",
              " 0.0045045045045045045,\n",
              " 0.0045045045045045045,\n",
              " 0.0045045045045045045,\n",
              " 0.0045045045045045045,\n",
              " 0.0045045045045045045,\n",
              " 0.0045045045045045045,\n",
              " 0.0045045045045045045,\n",
              " 0.0045045045045045045,\n",
              " 0.0045045045045045045,\n",
              " 0.0045045045045045045,\n",
              " 0.0045045045045045045,\n",
              " 0.0045045045045045045,\n",
              " 0.0045045045045045045,\n",
              " 0.0045045045045045045,\n",
              " 0.0045045045045045045,\n",
              " 0.0045045045045045045,\n",
              " 0.0045045045045045045,\n",
              " 0.0045045045045045045,\n",
              " 0.0045045045045045045,\n",
              " 0.0045045045045045045]"
            ]
          },
          "metadata": {
            "tags": []
          },
          "execution_count": 27
        }
      ]
    },
    {
      "cell_type": "code",
      "metadata": {
        "id": "NJmvmeVqlMdH",
        "colab_type": "code",
        "outputId": "182b242a-aa9e-47f8-ee13-6ea8d2248a36",
        "colab": {
          "base_uri": "https://localhost:8080/",
          "height": 69
        }
      },
      "source": [
        "docs = [\"The faster Harry got to the store, the faster and faster Harry would get home.\"]\n",
        "docs.append(\"Harry is hairy and faster than Jill.\")\n",
        "docs.append(\"Jill is not as hairy as Harry.\")\n",
        "docs"
      ],
      "execution_count": 28,
      "outputs": [
        {
          "output_type": "execute_result",
          "data": {
            "text/plain": [
              "['The faster Harry got to the store, the faster and faster Harry would get home.',\n",
              " 'Harry is hairy and faster than Jill.',\n",
              " 'Jill is not as hairy as Harry.']"
            ]
          },
          "metadata": {
            "tags": []
          },
          "execution_count": 28
        }
      ]
    },
    {
      "cell_type": "code",
      "metadata": {
        "id": "dP8CCdh8mmvT",
        "colab_type": "code",
        "outputId": "ae03b751-7572-4b68-b9c7-51e1cd2e5d36",
        "colab": {
          "base_uri": "https://localhost:8080/",
          "height": 87
        }
      },
      "source": [
        "doc_tokens = []\n",
        "for doc in docs:\n",
        "  print(doc)\n",
        "  doc_tokens = doc_tokens + [sorted(tokenizer.tokenize(doc.lower()))]\n",
        "\n",
        "len(doc_tokens[1])"
      ],
      "execution_count": 29,
      "outputs": [
        {
          "output_type": "stream",
          "text": [
            "The faster Harry got to the store, the faster and faster Harry would get home.\n",
            "Harry is hairy and faster than Jill.\n",
            "Jill is not as hairy as Harry.\n"
          ],
          "name": "stdout"
        },
        {
          "output_type": "execute_result",
          "data": {
            "text/plain": [
              "8"
            ]
          },
          "metadata": {
            "tags": []
          },
          "execution_count": 29
        }
      ]
    },
    {
      "cell_type": "code",
      "metadata": {
        "id": "YPWtRj2angW5",
        "colab_type": "code",
        "outputId": "53ef3004-9155-4536-efbe-244aadfbb742",
        "colab": {
          "base_uri": "https://localhost:8080/",
          "height": 347
        }
      },
      "source": [
        "doc_tokens"
      ],
      "execution_count": 30,
      "outputs": [
        {
          "output_type": "execute_result",
          "data": {
            "text/plain": [
              "[[',',\n",
              "  '.',\n",
              "  'and',\n",
              "  'faster',\n",
              "  'faster',\n",
              "  'faster',\n",
              "  'get',\n",
              "  'got',\n",
              "  'harry',\n",
              "  'harry',\n",
              "  'home',\n",
              "  'store',\n",
              "  'the',\n",
              "  'the',\n",
              "  'the',\n",
              "  'to',\n",
              "  'would'],\n",
              " ['.', 'and', 'faster', 'hairy', 'harry', 'is', 'jill', 'than'],\n",
              " ['.', 'as', 'as', 'hairy', 'harry', 'is', 'jill', 'not']]"
            ]
          },
          "metadata": {
            "tags": []
          },
          "execution_count": 30
        }
      ]
    },
    {
      "cell_type": "code",
      "metadata": {
        "id": "68yeavLJnxzO",
        "colab_type": "code",
        "outputId": "d9f06c74-b85b-4575-e36a-bf9bcf72e164",
        "colab": {
          "base_uri": "https://localhost:8080/",
          "height": 589
        }
      },
      "source": [
        "all_doc_tokens = sum(doc_tokens,[])\n",
        "all_doc_tokens"
      ],
      "execution_count": 31,
      "outputs": [
        {
          "output_type": "execute_result",
          "data": {
            "text/plain": [
              "[',',\n",
              " '.',\n",
              " 'and',\n",
              " 'faster',\n",
              " 'faster',\n",
              " 'faster',\n",
              " 'get',\n",
              " 'got',\n",
              " 'harry',\n",
              " 'harry',\n",
              " 'home',\n",
              " 'store',\n",
              " 'the',\n",
              " 'the',\n",
              " 'the',\n",
              " 'to',\n",
              " 'would',\n",
              " '.',\n",
              " 'and',\n",
              " 'faster',\n",
              " 'hairy',\n",
              " 'harry',\n",
              " 'is',\n",
              " 'jill',\n",
              " 'than',\n",
              " '.',\n",
              " 'as',\n",
              " 'as',\n",
              " 'hairy',\n",
              " 'harry',\n",
              " 'is',\n",
              " 'jill',\n",
              " 'not']"
            ]
          },
          "metadata": {
            "tags": []
          },
          "execution_count": 31
        }
      ]
    },
    {
      "cell_type": "code",
      "metadata": {
        "id": "fiJJdVpzn-df",
        "colab_type": "code",
        "outputId": "47bae06f-f2d3-4b1c-856b-98f2423852f2",
        "colab": {
          "base_uri": "https://localhost:8080/",
          "height": 35
        }
      },
      "source": [
        "len(all_doc_tokens)"
      ],
      "execution_count": 32,
      "outputs": [
        {
          "output_type": "execute_result",
          "data": {
            "text/plain": [
              "33"
            ]
          },
          "metadata": {
            "tags": []
          },
          "execution_count": 32
        }
      ]
    },
    {
      "cell_type": "code",
      "metadata": {
        "id": "_nwxpQq1oKcT",
        "colab_type": "code",
        "outputId": "d4f84488-135d-4587-bbaf-47df8428eea0",
        "colab": {
          "base_uri": "https://localhost:8080/",
          "height": 329
        }
      },
      "source": [
        "lexicon = sorted(set(all_doc_tokens)) # removes redundant entries\n",
        "lexicon"
      ],
      "execution_count": 33,
      "outputs": [
        {
          "output_type": "execute_result",
          "data": {
            "text/plain": [
              "[',',\n",
              " '.',\n",
              " 'and',\n",
              " 'as',\n",
              " 'faster',\n",
              " 'get',\n",
              " 'got',\n",
              " 'hairy',\n",
              " 'harry',\n",
              " 'home',\n",
              " 'is',\n",
              " 'jill',\n",
              " 'not',\n",
              " 'store',\n",
              " 'than',\n",
              " 'the',\n",
              " 'to',\n",
              " 'would']"
            ]
          },
          "metadata": {
            "tags": []
          },
          "execution_count": 33
        }
      ]
    },
    {
      "cell_type": "code",
      "metadata": {
        "id": "PeFxalaYoXOo",
        "colab_type": "code",
        "outputId": "7428034e-069d-468c-b6fb-6b0329d1a644",
        "colab": {
          "base_uri": "https://localhost:8080/",
          "height": 35
        }
      },
      "source": [
        "len(lexicon)"
      ],
      "execution_count": 34,
      "outputs": [
        {
          "output_type": "execute_result",
          "data": {
            "text/plain": [
              "18"
            ]
          },
          "metadata": {
            "tags": []
          },
          "execution_count": 34
        }
      ]
    },
    {
      "cell_type": "code",
      "metadata": {
        "id": "pNvVW2Q3oiDp",
        "colab_type": "code",
        "outputId": "03f101bf-df0b-435d-fd26-964fe94385e9",
        "colab": {
          "base_uri": "https://localhost:8080/",
          "height": 329
        }
      },
      "source": [
        "from collections import OrderedDict\n",
        "zero_vector = OrderedDict((token, 0) for token in lexicon)\n",
        "zero_vector"
      ],
      "execution_count": 35,
      "outputs": [
        {
          "output_type": "execute_result",
          "data": {
            "text/plain": [
              "OrderedDict([(',', 0),\n",
              "             ('.', 0),\n",
              "             ('and', 0),\n",
              "             ('as', 0),\n",
              "             ('faster', 0),\n",
              "             ('get', 0),\n",
              "             ('got', 0),\n",
              "             ('hairy', 0),\n",
              "             ('harry', 0),\n",
              "             ('home', 0),\n",
              "             ('is', 0),\n",
              "             ('jill', 0),\n",
              "             ('not', 0),\n",
              "             ('store', 0),\n",
              "             ('than', 0),\n",
              "             ('the', 0),\n",
              "             ('to', 0),\n",
              "             ('would', 0)])"
            ]
          },
          "metadata": {
            "tags": []
          },
          "execution_count": 35
        }
      ]
    },
    {
      "cell_type": "code",
      "metadata": {
        "id": "eijtbXebpAgF",
        "colab_type": "code",
        "outputId": "d63dae03-e694-4bc0-ebb1-1d2685eec262",
        "colab": {
          "base_uri": "https://localhost:8080/",
          "height": 1000
        }
      },
      "source": [
        "import copy\n",
        "doc_vectors = []\n",
        "for doc in docs:\n",
        "  vec = copy.copy(zero_vector)\n",
        "  tokens = tokenizer.tokenize(doc.lower())\n",
        "  token_counts = Counter(tokens)\n",
        "  print(token_counts)\n",
        "  for key,value in token_counts.items():\n",
        "    vec[key] = value/len(lexicon)\n",
        "  doc_vectors.append(vec)\n",
        "\n",
        "doc_vectors  "
      ],
      "execution_count": 36,
      "outputs": [
        {
          "output_type": "stream",
          "text": [
            "Counter({'the': 3, 'faster': 3, 'harry': 2, 'got': 1, 'to': 1, 'store': 1, ',': 1, 'and': 1, 'would': 1, 'get': 1, 'home': 1, '.': 1})\n",
            "Counter({'harry': 1, 'is': 1, 'hairy': 1, 'and': 1, 'faster': 1, 'than': 1, 'jill': 1, '.': 1})\n",
            "Counter({'as': 2, 'jill': 1, 'is': 1, 'not': 1, 'hairy': 1, 'harry': 1, '.': 1})\n"
          ],
          "name": "stdout"
        },
        {
          "output_type": "execute_result",
          "data": {
            "text/plain": [
              "[OrderedDict([(',', 0.05555555555555555),\n",
              "              ('.', 0.05555555555555555),\n",
              "              ('and', 0.05555555555555555),\n",
              "              ('as', 0),\n",
              "              ('faster', 0.16666666666666666),\n",
              "              ('get', 0.05555555555555555),\n",
              "              ('got', 0.05555555555555555),\n",
              "              ('hairy', 0),\n",
              "              ('harry', 0.1111111111111111),\n",
              "              ('home', 0.05555555555555555),\n",
              "              ('is', 0),\n",
              "              ('jill', 0),\n",
              "              ('not', 0),\n",
              "              ('store', 0.05555555555555555),\n",
              "              ('than', 0),\n",
              "              ('the', 0.16666666666666666),\n",
              "              ('to', 0.05555555555555555),\n",
              "              ('would', 0.05555555555555555)]),\n",
              " OrderedDict([(',', 0),\n",
              "              ('.', 0.05555555555555555),\n",
              "              ('and', 0.05555555555555555),\n",
              "              ('as', 0),\n",
              "              ('faster', 0.05555555555555555),\n",
              "              ('get', 0),\n",
              "              ('got', 0),\n",
              "              ('hairy', 0.05555555555555555),\n",
              "              ('harry', 0.05555555555555555),\n",
              "              ('home', 0),\n",
              "              ('is', 0.05555555555555555),\n",
              "              ('jill', 0.05555555555555555),\n",
              "              ('not', 0),\n",
              "              ('store', 0),\n",
              "              ('than', 0.05555555555555555),\n",
              "              ('the', 0),\n",
              "              ('to', 0),\n",
              "              ('would', 0)]),\n",
              " OrderedDict([(',', 0),\n",
              "              ('.', 0.05555555555555555),\n",
              "              ('and', 0),\n",
              "              ('as', 0.1111111111111111),\n",
              "              ('faster', 0),\n",
              "              ('get', 0),\n",
              "              ('got', 0),\n",
              "              ('hairy', 0.05555555555555555),\n",
              "              ('harry', 0.05555555555555555),\n",
              "              ('home', 0),\n",
              "              ('is', 0.05555555555555555),\n",
              "              ('jill', 0.05555555555555555),\n",
              "              ('not', 0.05555555555555555),\n",
              "              ('store', 0),\n",
              "              ('than', 0),\n",
              "              ('the', 0),\n",
              "              ('to', 0),\n",
              "              ('would', 0)])]"
            ]
          },
          "metadata": {
            "tags": []
          },
          "execution_count": 36
        }
      ]
    },
    {
      "cell_type": "code",
      "metadata": {
        "id": "6w45FL5xpR_V",
        "colab_type": "code",
        "colab": {
          "base_uri": "https://localhost:8080/",
          "height": 69
        },
        "outputId": "47129def-03a2-4ad7-b783-c895e394f666"
      },
      "source": [
        "# we have vectors or document vectors for three documents\n",
        "#Zipf's Law\n",
        "nltk.download('brown')"
      ],
      "execution_count": 37,
      "outputs": [
        {
          "output_type": "stream",
          "text": [
            "[nltk_data] Downloading package brown to /root/nltk_data...\n",
            "[nltk_data]   Unzipping corpora/brown.zip.\n"
          ],
          "name": "stdout"
        },
        {
          "output_type": "execute_result",
          "data": {
            "text/plain": [
              "True"
            ]
          },
          "metadata": {
            "tags": []
          },
          "execution_count": 37
        }
      ]
    },
    {
      "cell_type": "code",
      "metadata": {
        "id": "mLXxMY-xLo1p",
        "colab_type": "code",
        "colab": {
          "base_uri": "https://localhost:8080/",
          "height": 364
        },
        "outputId": "6d6adbba-41db-4ab4-ce31-e323278f0455"
      },
      "source": [
        "from nltk.corpus import brown\n",
        "brown.words()[:20]"
      ],
      "execution_count": 38,
      "outputs": [
        {
          "output_type": "execute_result",
          "data": {
            "text/plain": [
              "['The',\n",
              " 'Fulton',\n",
              " 'County',\n",
              " 'Grand',\n",
              " 'Jury',\n",
              " 'said',\n",
              " 'Friday',\n",
              " 'an',\n",
              " 'investigation',\n",
              " 'of',\n",
              " \"Atlanta's\",\n",
              " 'recent',\n",
              " 'primary',\n",
              " 'election',\n",
              " 'produced',\n",
              " '``',\n",
              " 'no',\n",
              " 'evidence',\n",
              " \"''\",\n",
              " 'that']"
            ]
          },
          "metadata": {
            "tags": []
          },
          "execution_count": 38
        }
      ]
    },
    {
      "cell_type": "code",
      "metadata": {
        "id": "ADGcbBzYL3O5",
        "colab_type": "code",
        "colab": {
          "base_uri": "https://localhost:8080/",
          "height": 104
        },
        "outputId": "1e2a3b65-0114-4495-eb95-09d2e22eff72"
      },
      "source": [
        "brown.tagged_words()[:5]"
      ],
      "execution_count": 39,
      "outputs": [
        {
          "output_type": "execute_result",
          "data": {
            "text/plain": [
              "[('The', 'AT'),\n",
              " ('Fulton', 'NP-TL'),\n",
              " ('County', 'NN-TL'),\n",
              " ('Grand', 'JJ-TL'),\n",
              " ('Jury', 'NN-TL')]"
            ]
          },
          "metadata": {
            "tags": []
          },
          "execution_count": 39
        }
      ]
    },
    {
      "cell_type": "code",
      "metadata": {
        "id": "TdMz3uWTMDGh",
        "colab_type": "code",
        "colab": {
          "base_uri": "https://localhost:8080/",
          "height": 35
        },
        "outputId": "b6411be9-6448-4585-c325-e321618882c9"
      },
      "source": [
        "len(brown.words())"
      ],
      "execution_count": 40,
      "outputs": [
        {
          "output_type": "execute_result",
          "data": {
            "text/plain": [
              "1161192"
            ]
          },
          "metadata": {
            "tags": []
          },
          "execution_count": 40
        }
      ]
    },
    {
      "cell_type": "code",
      "metadata": {
        "id": "rfcFN2tRMJbL",
        "colab_type": "code",
        "colab": {
          "base_uri": "https://localhost:8080/",
          "height": 364
        },
        "outputId": "c950eb7e-9af9-4eee-b912-b7be4b7414bf"
      },
      "source": [
        "from collections import Counter\n",
        "# list mutable []\n",
        "# tuple () heterogeneous container, immutable () for example tup1 = (1,)  \n",
        "# set {} unordered, mutable and contains unique values. Python provides us with a list of functions and methods like discard(), pop(), clear(), remove(), add(), and more. Functions like len() and max() also apply on sets. \n",
        "# dictionary {key:value} \n",
        "puncs = set((',','.','--','-','!','?',':',';','``',\"''\",'(',')','[',']') )\n",
        "word_list = [x.lower() for x in brown.words() if x not in puncs]\n",
        "token_counts = Counter(word_list)\n",
        "token_counts.most_common(20)"
      ],
      "execution_count": 42,
      "outputs": [
        {
          "output_type": "execute_result",
          "data": {
            "text/plain": [
              "[('the', 69971),\n",
              " ('of', 36412),\n",
              " ('and', 28853),\n",
              " ('to', 26158),\n",
              " ('a', 23195),\n",
              " ('in', 21337),\n",
              " ('that', 10594),\n",
              " ('is', 10109),\n",
              " ('was', 9815),\n",
              " ('he', 9548),\n",
              " ('for', 9489),\n",
              " ('it', 8760),\n",
              " ('with', 7289),\n",
              " ('as', 7253),\n",
              " ('his', 6996),\n",
              " ('on', 6741),\n",
              " ('be', 6377),\n",
              " ('at', 5372),\n",
              " ('by', 5306),\n",
              " ('i', 5164)]"
            ]
          },
          "metadata": {
            "tags": []
          },
          "execution_count": 42
        }
      ]
    },
    {
      "cell_type": "code",
      "metadata": {
        "id": "I983sqN7QjkB",
        "colab_type": "code",
        "colab": {
          "base_uri": "https://localhost:8080/",
          "height": 55
        },
        "outputId": "608e97c4-910b-4e0a-d1e4-ac3e372583d3"
      },
      "source": [
        "# Topic modeling\n",
        "# Inverse Document Frequency\n",
        "from nlpia.data.loaders import kite_text, kite_history\n",
        "kite_text"
      ],
      "execution_count": 43,
      "outputs": [
        {
          "output_type": "execute_result",
          "data": {
            "text/plain": [
              "\"A kite is traditionally a tethered heavier-than-air craft with wing surfaces that react against the air to create lift and drag. A kite consists of wings, tethers, and anchors. Kites often have a bridle to guide the face of the kite at the correct angle so the wind can lift it. A kite's wing also may be so designed so a bridle is not needed; when kiting a sailplane for launch, the tether meets the wing at a single point. A kite may have fixed or moving anchors. Untraditionally in technical kiting, a kite consists of tether-set-coupled wing sets; even in technical kiting, though, a wing in the system is still often called the kite.\\n\\nThe lift that sustains the kite in flight is generated when air flows around the kite's surface, producing low pressure above and high pressure below the wings. The interaction with the wind also generates horizontal drag along the direction of the wind. The resultant force vector from the lift and drag force components is opposed by the tension of one or more of the lines or tethers to which the kite is attached. The anchor point of the kite line may be static or moving (e.g., the towing of a kite by a running person, boat, free-falling anchors as in paragliders and fugitive parakites or vehicle).\\n\\nThe same principles of fluid flow apply in liquids and kites are also used under water.\\n\\nA hybrid tethered craft comprising both a lighter-than-air balloon as well as a kite lifting surface is called a kytoon.\\n\\nKites have a long and varied history and many different types are flown individually and at festivals worldwide. Kites may be flown for recreation, art or other practical uses. Sport kites can be flown in aerial ballet, sometimes as part of a competition. Power kites are multi-line steerable kites designed to generate large forces which can be used to power activities such as kite surfing, kite landboarding, kite fishing, kite buggying and a new trend snow kiting. Even Man-lifting kites have been made.\\n\""
            ]
          },
          "metadata": {
            "tags": []
          },
          "execution_count": 43
        }
      ]
    },
    {
      "cell_type": "code",
      "metadata": {
        "id": "3yzx_BnMWf68",
        "colab_type": "code",
        "colab": {
          "base_uri": "https://localhost:8080/",
          "height": 55
        },
        "outputId": "73d30dc5-6053-4254-eb4b-655b67541bbd"
      },
      "source": [
        "kite_history"
      ],
      "execution_count": 44,
      "outputs": [
        {
          "output_type": "execute_result",
          "data": {
            "text/plain": [
              "'Kites were invented in China, where materials ideal for kite building were readily available: silk fabric for sail material; fine, high-tensile-strength silk for flying line; and resilient bamboo for a strong, lightweight framework.\\n\\nThe kite has been claimed as the invention of the 5th-century BC Chinese philosophers Mozi (also Mo Di) and Lu Ban (also Gongshu Ban). By 549 AD paper kites were certainly being flown, as it was recorded that in that year a paper kite was used as a message for a rescue mission. Ancient and medieval Chinese sources describe kites being used for measuring distances, testing the wind, lifting men, signaling, and communication for military operations. The earliest known Chinese kites were flat (not bowed) and often rectangular. Later, tailless kites incorporated a stabilizing bowline. Kites were decorated with mythological motifs and legendary figures; some were fitted with strings and whistles to make musical sounds while flying. From China, kites were introduced to Cambodia, Thailand, India, Japan, Korea and the western world.\\n\\nAfter its introduction into India, the kite further evolved into the fighter kite, known as the patang in India, where thousands are flown every year on festivals such as Makar Sankranti.\\n\\nKites were known throughout Polynesia, as far as New Zealand, with the assumption being that the knowledge diffused from China along with the people. Anthropomorphic kites made from cloth and wood were used in religious ceremonies to send prayers to the gods. Polynesian kite traditions are used by anthropologists get an idea of early \"primitive\" Asian traditions that are believed to have at one time existed in Asia.\\n'"
            ]
          },
          "metadata": {
            "tags": []
          },
          "execution_count": 44
        }
      ]
    },
    {
      "cell_type": "code",
      "metadata": {
        "id": "6fGSz_HoWjM3",
        "colab_type": "code",
        "colab": {
          "base_uri": "https://localhost:8080/",
          "height": 35
        },
        "outputId": "b233c875-1353-4a66-f78f-5d842df908f6"
      },
      "source": [
        "len(kite_text)"
      ],
      "execution_count": 45,
      "outputs": [
        {
          "output_type": "execute_result",
          "data": {
            "text/plain": [
              "1966"
            ]
          },
          "metadata": {
            "tags": []
          },
          "execution_count": 45
        }
      ]
    },
    {
      "cell_type": "code",
      "metadata": {
        "id": "0jEqWvEXWmpM",
        "colab_type": "code",
        "colab": {
          "base_uri": "https://localhost:8080/",
          "height": 35
        },
        "outputId": "754fb386-2d5f-4ec6-bcd1-dd6213506efd"
      },
      "source": [
        "len(kite_history)"
      ],
      "execution_count": 46,
      "outputs": [
        {
          "output_type": "execute_result",
          "data": {
            "text/plain": [
              "1681"
            ]
          },
          "metadata": {
            "tags": []
          },
          "execution_count": 46
        }
      ]
    },
    {
      "cell_type": "code",
      "metadata": {
        "id": "_p33mqxhWrJx",
        "colab_type": "code",
        "colab": {
          "base_uri": "https://localhost:8080/",
          "height": 1000
        },
        "outputId": "a9990ae1-fd6d-4f17-f47d-c6cbbd064c7b"
      },
      "source": [
        "kite_intro = kite_text.lower()\n",
        "intro_tokens = tokenizer.tokenize(kite_intro)\n",
        "intro_tokens"
      ],
      "execution_count": 47,
      "outputs": [
        {
          "output_type": "execute_result",
          "data": {
            "text/plain": [
              "['a',\n",
              " 'kite',\n",
              " 'is',\n",
              " 'traditionally',\n",
              " 'a',\n",
              " 'tethered',\n",
              " 'heavier-than-air',\n",
              " 'craft',\n",
              " 'with',\n",
              " 'wing',\n",
              " 'surfaces',\n",
              " 'that',\n",
              " 'react',\n",
              " 'against',\n",
              " 'the',\n",
              " 'air',\n",
              " 'to',\n",
              " 'create',\n",
              " 'lift',\n",
              " 'and',\n",
              " 'drag.',\n",
              " 'a',\n",
              " 'kite',\n",
              " 'consists',\n",
              " 'of',\n",
              " 'wings',\n",
              " ',',\n",
              " 'tethers',\n",
              " ',',\n",
              " 'and',\n",
              " 'anchors.',\n",
              " 'kites',\n",
              " 'often',\n",
              " 'have',\n",
              " 'a',\n",
              " 'bridle',\n",
              " 'to',\n",
              " 'guide',\n",
              " 'the',\n",
              " 'face',\n",
              " 'of',\n",
              " 'the',\n",
              " 'kite',\n",
              " 'at',\n",
              " 'the',\n",
              " 'correct',\n",
              " 'angle',\n",
              " 'so',\n",
              " 'the',\n",
              " 'wind',\n",
              " 'can',\n",
              " 'lift',\n",
              " 'it.',\n",
              " 'a',\n",
              " 'kite',\n",
              " \"'s\",\n",
              " 'wing',\n",
              " 'also',\n",
              " 'may',\n",
              " 'be',\n",
              " 'so',\n",
              " 'designed',\n",
              " 'so',\n",
              " 'a',\n",
              " 'bridle',\n",
              " 'is',\n",
              " 'not',\n",
              " 'needed',\n",
              " ';',\n",
              " 'when',\n",
              " 'kiting',\n",
              " 'a',\n",
              " 'sailplane',\n",
              " 'for',\n",
              " 'launch',\n",
              " ',',\n",
              " 'the',\n",
              " 'tether',\n",
              " 'meets',\n",
              " 'the',\n",
              " 'wing',\n",
              " 'at',\n",
              " 'a',\n",
              " 'single',\n",
              " 'point.',\n",
              " 'a',\n",
              " 'kite',\n",
              " 'may',\n",
              " 'have',\n",
              " 'fixed',\n",
              " 'or',\n",
              " 'moving',\n",
              " 'anchors.',\n",
              " 'untraditionally',\n",
              " 'in',\n",
              " 'technical',\n",
              " 'kiting',\n",
              " ',',\n",
              " 'a',\n",
              " 'kite',\n",
              " 'consists',\n",
              " 'of',\n",
              " 'tether-set-coupled',\n",
              " 'wing',\n",
              " 'sets',\n",
              " ';',\n",
              " 'even',\n",
              " 'in',\n",
              " 'technical',\n",
              " 'kiting',\n",
              " ',',\n",
              " 'though',\n",
              " ',',\n",
              " 'a',\n",
              " 'wing',\n",
              " 'in',\n",
              " 'the',\n",
              " 'system',\n",
              " 'is',\n",
              " 'still',\n",
              " 'often',\n",
              " 'called',\n",
              " 'the',\n",
              " 'kite.',\n",
              " 'the',\n",
              " 'lift',\n",
              " 'that',\n",
              " 'sustains',\n",
              " 'the',\n",
              " 'kite',\n",
              " 'in',\n",
              " 'flight',\n",
              " 'is',\n",
              " 'generated',\n",
              " 'when',\n",
              " 'air',\n",
              " 'flows',\n",
              " 'around',\n",
              " 'the',\n",
              " 'kite',\n",
              " \"'s\",\n",
              " 'surface',\n",
              " ',',\n",
              " 'producing',\n",
              " 'low',\n",
              " 'pressure',\n",
              " 'above',\n",
              " 'and',\n",
              " 'high',\n",
              " 'pressure',\n",
              " 'below',\n",
              " 'the',\n",
              " 'wings.',\n",
              " 'the',\n",
              " 'interaction',\n",
              " 'with',\n",
              " 'the',\n",
              " 'wind',\n",
              " 'also',\n",
              " 'generates',\n",
              " 'horizontal',\n",
              " 'drag',\n",
              " 'along',\n",
              " 'the',\n",
              " 'direction',\n",
              " 'of',\n",
              " 'the',\n",
              " 'wind.',\n",
              " 'the',\n",
              " 'resultant',\n",
              " 'force',\n",
              " 'vector',\n",
              " 'from',\n",
              " 'the',\n",
              " 'lift',\n",
              " 'and',\n",
              " 'drag',\n",
              " 'force',\n",
              " 'components',\n",
              " 'is',\n",
              " 'opposed',\n",
              " 'by',\n",
              " 'the',\n",
              " 'tension',\n",
              " 'of',\n",
              " 'one',\n",
              " 'or',\n",
              " 'more',\n",
              " 'of',\n",
              " 'the',\n",
              " 'lines',\n",
              " 'or',\n",
              " 'tethers',\n",
              " 'to',\n",
              " 'which',\n",
              " 'the',\n",
              " 'kite',\n",
              " 'is',\n",
              " 'attached.',\n",
              " 'the',\n",
              " 'anchor',\n",
              " 'point',\n",
              " 'of',\n",
              " 'the',\n",
              " 'kite',\n",
              " 'line',\n",
              " 'may',\n",
              " 'be',\n",
              " 'static',\n",
              " 'or',\n",
              " 'moving',\n",
              " '(',\n",
              " 'e.g.',\n",
              " ',',\n",
              " 'the',\n",
              " 'towing',\n",
              " 'of',\n",
              " 'a',\n",
              " 'kite',\n",
              " 'by',\n",
              " 'a',\n",
              " 'running',\n",
              " 'person',\n",
              " ',',\n",
              " 'boat',\n",
              " ',',\n",
              " 'free-falling',\n",
              " 'anchors',\n",
              " 'as',\n",
              " 'in',\n",
              " 'paragliders',\n",
              " 'and',\n",
              " 'fugitive',\n",
              " 'parakites',\n",
              " 'or',\n",
              " 'vehicle',\n",
              " ')',\n",
              " '.',\n",
              " 'the',\n",
              " 'same',\n",
              " 'principles',\n",
              " 'of',\n",
              " 'fluid',\n",
              " 'flow',\n",
              " 'apply',\n",
              " 'in',\n",
              " 'liquids',\n",
              " 'and',\n",
              " 'kites',\n",
              " 'are',\n",
              " 'also',\n",
              " 'used',\n",
              " 'under',\n",
              " 'water.',\n",
              " 'a',\n",
              " 'hybrid',\n",
              " 'tethered',\n",
              " 'craft',\n",
              " 'comprising',\n",
              " 'both',\n",
              " 'a',\n",
              " 'lighter-than-air',\n",
              " 'balloon',\n",
              " 'as',\n",
              " 'well',\n",
              " 'as',\n",
              " 'a',\n",
              " 'kite',\n",
              " 'lifting',\n",
              " 'surface',\n",
              " 'is',\n",
              " 'called',\n",
              " 'a',\n",
              " 'kytoon.',\n",
              " 'kites',\n",
              " 'have',\n",
              " 'a',\n",
              " 'long',\n",
              " 'and',\n",
              " 'varied',\n",
              " 'history',\n",
              " 'and',\n",
              " 'many',\n",
              " 'different',\n",
              " 'types',\n",
              " 'are',\n",
              " 'flown',\n",
              " 'individually',\n",
              " 'and',\n",
              " 'at',\n",
              " 'festivals',\n",
              " 'worldwide.',\n",
              " 'kites',\n",
              " 'may',\n",
              " 'be',\n",
              " 'flown',\n",
              " 'for',\n",
              " 'recreation',\n",
              " ',',\n",
              " 'art',\n",
              " 'or',\n",
              " 'other',\n",
              " 'practical',\n",
              " 'uses.',\n",
              " 'sport',\n",
              " 'kites',\n",
              " 'can',\n",
              " 'be',\n",
              " 'flown',\n",
              " 'in',\n",
              " 'aerial',\n",
              " 'ballet',\n",
              " ',',\n",
              " 'sometimes',\n",
              " 'as',\n",
              " 'part',\n",
              " 'of',\n",
              " 'a',\n",
              " 'competition.',\n",
              " 'power',\n",
              " 'kites',\n",
              " 'are',\n",
              " 'multi-line',\n",
              " 'steerable',\n",
              " 'kites',\n",
              " 'designed',\n",
              " 'to',\n",
              " 'generate',\n",
              " 'large',\n",
              " 'forces',\n",
              " 'which',\n",
              " 'can',\n",
              " 'be',\n",
              " 'used',\n",
              " 'to',\n",
              " 'power',\n",
              " 'activities',\n",
              " 'such',\n",
              " 'as',\n",
              " 'kite',\n",
              " 'surfing',\n",
              " ',',\n",
              " 'kite',\n",
              " 'landboarding',\n",
              " ',',\n",
              " 'kite',\n",
              " 'fishing',\n",
              " ',',\n",
              " 'kite',\n",
              " 'buggying',\n",
              " 'and',\n",
              " 'a',\n",
              " 'new',\n",
              " 'trend',\n",
              " 'snow',\n",
              " 'kiting.',\n",
              " 'even',\n",
              " 'man-lifting',\n",
              " 'kites',\n",
              " 'have',\n",
              " 'been',\n",
              " 'made',\n",
              " '.']"
            ]
          },
          "metadata": {
            "tags": []
          },
          "execution_count": 47
        }
      ]
    },
    {
      "cell_type": "code",
      "metadata": {
        "id": "FM-fL9HKXAAm",
        "colab_type": "code",
        "colab": {
          "base_uri": "https://localhost:8080/",
          "height": 1000
        },
        "outputId": "02ba6dec-1ca5-4f77-83a9-24a7eb85ce73"
      },
      "source": [
        "kite_history = kite_history.lower()\n",
        "history_tokens = tokenizer.tokenize(kite_history)\n",
        "history_tokens"
      ],
      "execution_count": 48,
      "outputs": [
        {
          "output_type": "execute_result",
          "data": {
            "text/plain": [
              "['kites',\n",
              " 'were',\n",
              " 'invented',\n",
              " 'in',\n",
              " 'china',\n",
              " ',',\n",
              " 'where',\n",
              " 'materials',\n",
              " 'ideal',\n",
              " 'for',\n",
              " 'kite',\n",
              " 'building',\n",
              " 'were',\n",
              " 'readily',\n",
              " 'available',\n",
              " ':',\n",
              " 'silk',\n",
              " 'fabric',\n",
              " 'for',\n",
              " 'sail',\n",
              " 'material',\n",
              " ';',\n",
              " 'fine',\n",
              " ',',\n",
              " 'high-tensile-strength',\n",
              " 'silk',\n",
              " 'for',\n",
              " 'flying',\n",
              " 'line',\n",
              " ';',\n",
              " 'and',\n",
              " 'resilient',\n",
              " 'bamboo',\n",
              " 'for',\n",
              " 'a',\n",
              " 'strong',\n",
              " ',',\n",
              " 'lightweight',\n",
              " 'framework.',\n",
              " 'the',\n",
              " 'kite',\n",
              " 'has',\n",
              " 'been',\n",
              " 'claimed',\n",
              " 'as',\n",
              " 'the',\n",
              " 'invention',\n",
              " 'of',\n",
              " 'the',\n",
              " '5th-century',\n",
              " 'bc',\n",
              " 'chinese',\n",
              " 'philosophers',\n",
              " 'mozi',\n",
              " '(',\n",
              " 'also',\n",
              " 'mo',\n",
              " 'di',\n",
              " ')',\n",
              " 'and',\n",
              " 'lu',\n",
              " 'ban',\n",
              " '(',\n",
              " 'also',\n",
              " 'gongshu',\n",
              " 'ban',\n",
              " ')',\n",
              " '.',\n",
              " 'by',\n",
              " '549',\n",
              " 'ad',\n",
              " 'paper',\n",
              " 'kites',\n",
              " 'were',\n",
              " 'certainly',\n",
              " 'being',\n",
              " 'flown',\n",
              " ',',\n",
              " 'as',\n",
              " 'it',\n",
              " 'was',\n",
              " 'recorded',\n",
              " 'that',\n",
              " 'in',\n",
              " 'that',\n",
              " 'year',\n",
              " 'a',\n",
              " 'paper',\n",
              " 'kite',\n",
              " 'was',\n",
              " 'used',\n",
              " 'as',\n",
              " 'a',\n",
              " 'message',\n",
              " 'for',\n",
              " 'a',\n",
              " 'rescue',\n",
              " 'mission.',\n",
              " 'ancient',\n",
              " 'and',\n",
              " 'medieval',\n",
              " 'chinese',\n",
              " 'sources',\n",
              " 'describe',\n",
              " 'kites',\n",
              " 'being',\n",
              " 'used',\n",
              " 'for',\n",
              " 'measuring',\n",
              " 'distances',\n",
              " ',',\n",
              " 'testing',\n",
              " 'the',\n",
              " 'wind',\n",
              " ',',\n",
              " 'lifting',\n",
              " 'men',\n",
              " ',',\n",
              " 'signaling',\n",
              " ',',\n",
              " 'and',\n",
              " 'communication',\n",
              " 'for',\n",
              " 'military',\n",
              " 'operations.',\n",
              " 'the',\n",
              " 'earliest',\n",
              " 'known',\n",
              " 'chinese',\n",
              " 'kites',\n",
              " 'were',\n",
              " 'flat',\n",
              " '(',\n",
              " 'not',\n",
              " 'bowed',\n",
              " ')',\n",
              " 'and',\n",
              " 'often',\n",
              " 'rectangular.',\n",
              " 'later',\n",
              " ',',\n",
              " 'tailless',\n",
              " 'kites',\n",
              " 'incorporated',\n",
              " 'a',\n",
              " 'stabilizing',\n",
              " 'bowline.',\n",
              " 'kites',\n",
              " 'were',\n",
              " 'decorated',\n",
              " 'with',\n",
              " 'mythological',\n",
              " 'motifs',\n",
              " 'and',\n",
              " 'legendary',\n",
              " 'figures',\n",
              " ';',\n",
              " 'some',\n",
              " 'were',\n",
              " 'fitted',\n",
              " 'with',\n",
              " 'strings',\n",
              " 'and',\n",
              " 'whistles',\n",
              " 'to',\n",
              " 'make',\n",
              " 'musical',\n",
              " 'sounds',\n",
              " 'while',\n",
              " 'flying.',\n",
              " 'from',\n",
              " 'china',\n",
              " ',',\n",
              " 'kites',\n",
              " 'were',\n",
              " 'introduced',\n",
              " 'to',\n",
              " 'cambodia',\n",
              " ',',\n",
              " 'thailand',\n",
              " ',',\n",
              " 'india',\n",
              " ',',\n",
              " 'japan',\n",
              " ',',\n",
              " 'korea',\n",
              " 'and',\n",
              " 'the',\n",
              " 'western',\n",
              " 'world.',\n",
              " 'after',\n",
              " 'its',\n",
              " 'introduction',\n",
              " 'into',\n",
              " 'india',\n",
              " ',',\n",
              " 'the',\n",
              " 'kite',\n",
              " 'further',\n",
              " 'evolved',\n",
              " 'into',\n",
              " 'the',\n",
              " 'fighter',\n",
              " 'kite',\n",
              " ',',\n",
              " 'known',\n",
              " 'as',\n",
              " 'the',\n",
              " 'patang',\n",
              " 'in',\n",
              " 'india',\n",
              " ',',\n",
              " 'where',\n",
              " 'thousands',\n",
              " 'are',\n",
              " 'flown',\n",
              " 'every',\n",
              " 'year',\n",
              " 'on',\n",
              " 'festivals',\n",
              " 'such',\n",
              " 'as',\n",
              " 'makar',\n",
              " 'sankranti.',\n",
              " 'kites',\n",
              " 'were',\n",
              " 'known',\n",
              " 'throughout',\n",
              " 'polynesia',\n",
              " ',',\n",
              " 'as',\n",
              " 'far',\n",
              " 'as',\n",
              " 'new',\n",
              " 'zealand',\n",
              " ',',\n",
              " 'with',\n",
              " 'the',\n",
              " 'assumption',\n",
              " 'being',\n",
              " 'that',\n",
              " 'the',\n",
              " 'knowledge',\n",
              " 'diffused',\n",
              " 'from',\n",
              " 'china',\n",
              " 'along',\n",
              " 'with',\n",
              " 'the',\n",
              " 'people.',\n",
              " 'anthropomorphic',\n",
              " 'kites',\n",
              " 'made',\n",
              " 'from',\n",
              " 'cloth',\n",
              " 'and',\n",
              " 'wood',\n",
              " 'were',\n",
              " 'used',\n",
              " 'in',\n",
              " 'religious',\n",
              " 'ceremonies',\n",
              " 'to',\n",
              " 'send',\n",
              " 'prayers',\n",
              " 'to',\n",
              " 'the',\n",
              " 'gods.',\n",
              " 'polynesian',\n",
              " 'kite',\n",
              " 'traditions',\n",
              " 'are',\n",
              " 'used',\n",
              " 'by',\n",
              " 'anthropologists',\n",
              " 'get',\n",
              " 'an',\n",
              " 'idea',\n",
              " 'of',\n",
              " 'early',\n",
              " '``',\n",
              " 'primitive',\n",
              " \"''\",\n",
              " 'asian',\n",
              " 'traditions',\n",
              " 'that',\n",
              " 'are',\n",
              " 'believed',\n",
              " 'to',\n",
              " 'have',\n",
              " 'at',\n",
              " 'one',\n",
              " 'time',\n",
              " 'existed',\n",
              " 'in',\n",
              " 'asia',\n",
              " '.']"
            ]
          },
          "metadata": {
            "tags": []
          },
          "execution_count": 48
        }
      ]
    },
    {
      "cell_type": "code",
      "metadata": {
        "id": "ecDV6IrNXSPI",
        "colab_type": "code",
        "colab": {}
      },
      "source": [
        "intro_total = len(intro_tokens)\n",
        "history_total = len(history_tokens)"
      ],
      "execution_count": 0,
      "outputs": []
    },
    {
      "cell_type": "code",
      "metadata": {
        "id": "4n2svv3AXgRw",
        "colab_type": "code",
        "colab": {}
      },
      "source": [
        "# TF - Term Frequencies\n",
        "intro_tf = {} # dictionary\n",
        "history_tf = {} # dictionary\n",
        "intro_counts = Counter(intro_tokens)\n",
        "history_counts = Counter(history_tokens) "
      ],
      "execution_count": 0,
      "outputs": []
    },
    {
      "cell_type": "code",
      "metadata": {
        "id": "qWFVf58PYFrx",
        "colab_type": "code",
        "colab": {
          "base_uri": "https://localhost:8080/",
          "height": 35
        },
        "outputId": "5141b2a4-9bdb-4803-c3b0-b456424c3c72"
      },
      "source": [
        "intro_counts.get('kite')"
      ],
      "execution_count": 52,
      "outputs": [
        {
          "output_type": "execute_result",
          "data": {
            "text/plain": [
              "16"
            ]
          },
          "metadata": {
            "tags": []
          },
          "execution_count": 52
        }
      ]
    },
    {
      "cell_type": "code",
      "metadata": {
        "id": "5mMvznK4YSQG",
        "colab_type": "code",
        "colab": {
          "base_uri": "https://localhost:8080/",
          "height": 35
        },
        "outputId": "ceb330bf-91ad-44fc-a667-9fc7e3de8ce4"
      },
      "source": [
        "history_counts.get('kite')"
      ],
      "execution_count": 53,
      "outputs": [
        {
          "output_type": "execute_result",
          "data": {
            "text/plain": [
              "6"
            ]
          },
          "metadata": {
            "tags": []
          },
          "execution_count": 53
        }
      ]
    },
    {
      "cell_type": "code",
      "metadata": {
        "id": "O-j4DVF5Ycw-",
        "colab_type": "code",
        "colab": {}
      },
      "source": [
        "intro_tf['kite'] = intro_counts.get('kite') / intro_total\n",
        "history_tf['kite'] = history_counts.get('kite') / history_total"
      ],
      "execution_count": 0,
      "outputs": []
    },
    {
      "cell_type": "code",
      "metadata": {
        "id": "MFDK6F4KZKku",
        "colab_type": "code",
        "colab": {
          "base_uri": "https://localhost:8080/",
          "height": 35
        },
        "outputId": "3c7b5a8f-a208-49e5-a7a7-e1e0f6b1284f"
      },
      "source": [
        "intro_tf"
      ],
      "execution_count": 55,
      "outputs": [
        {
          "output_type": "execute_result",
          "data": {
            "text/plain": [
              "{'kite': 0.0440771349862259}"
            ]
          },
          "metadata": {
            "tags": []
          },
          "execution_count": 55
        }
      ]
    },
    {
      "cell_type": "code",
      "metadata": {
        "id": "t37wCd9cZNYf",
        "colab_type": "code",
        "colab": {
          "base_uri": "https://localhost:8080/",
          "height": 35
        },
        "outputId": "c132e7e5-0f03-45fc-8439-5a4dfa005473"
      },
      "source": [
        "history_tf"
      ],
      "execution_count": 56,
      "outputs": [
        {
          "output_type": "execute_result",
          "data": {
            "text/plain": [
              "{'kite': 0.020202020202020204}"
            ]
          },
          "metadata": {
            "tags": []
          },
          "execution_count": 56
        }
      ]
    },
    {
      "cell_type": "code",
      "metadata": {
        "id": "HAfvN6YlZReo",
        "colab_type": "code",
        "colab": {
          "base_uri": "https://localhost:8080/",
          "height": 52
        },
        "outputId": "c02b66ba-47dd-4f0d-fa06-127b3ef87353"
      },
      "source": [
        "intro_tf['and'] = intro_counts.get('and') / intro_total\n",
        "history_tf['and'] = history_counts.get('and') / history_total\n",
        "print(intro_tf)\n",
        "print(history_tf)"
      ],
      "execution_count": 57,
      "outputs": [
        {
          "output_type": "stream",
          "text": [
            "{'kite': 0.0440771349862259, 'and': 0.027548209366391185}\n",
            "{'kite': 0.020202020202020204, 'and': 0.030303030303030304}\n"
          ],
          "name": "stdout"
        }
      ]
    },
    {
      "cell_type": "code",
      "metadata": {
        "id": "xicZMPvJZ7CX",
        "colab_type": "code",
        "colab": {}
      },
      "source": [
        "# Calculate number of documents containing 'and'\n",
        "num_docs_containing_and = 0\n",
        "for token in [intro_tokens,history_tokens]:\n",
        "  if 'and' in token:\n",
        "    num_docs_containing_and = num_docs_containing_and + 1"
      ],
      "execution_count": 0,
      "outputs": []
    },
    {
      "cell_type": "code",
      "metadata": {
        "id": "LWAGYua9cYFy",
        "colab_type": "code",
        "colab": {
          "base_uri": "https://localhost:8080/",
          "height": 35
        },
        "outputId": "94050137-eecb-456f-d2e2-9aaf88f25fc0"
      },
      "source": [
        "num_docs_containing_and"
      ],
      "execution_count": 59,
      "outputs": [
        {
          "output_type": "execute_result",
          "data": {
            "text/plain": [
              "2"
            ]
          },
          "metadata": {
            "tags": []
          },
          "execution_count": 59
        }
      ]
    },
    {
      "cell_type": "code",
      "metadata": {
        "id": "voBCQRBUcaud",
        "colab_type": "code",
        "colab": {}
      },
      "source": [
        "# Calculate number of documents containing 'kite'\n",
        "num_docs_containing_kite = 0\n",
        "for token in [intro_tokens,history_tokens]:\n",
        "  if 'kite' in token:\n",
        "    num_docs_containing_kite = num_docs_containing_kite + 1\n",
        "\n",
        "# Calculate number of documents containing 'China'\n",
        "num_docs_containing_china = 0\n",
        "for token in [intro_tokens,history_tokens]:\n",
        "  if 'china' in token:\n",
        "    num_docs_containing_china = num_docs_containing_china + 1"
      ],
      "execution_count": 0,
      "outputs": []
    },
    {
      "cell_type": "code",
      "metadata": {
        "id": "8Q2uzJRlc_uM",
        "colab_type": "code",
        "colab": {
          "base_uri": "https://localhost:8080/",
          "height": 52
        },
        "outputId": "7ef55b97-6df6-4a12-b978-84d7e9a797fd"
      },
      "source": [
        "intro_tf['kite'] = intro_counts.get('kite') / intro_total\n",
        "history_tf['kite'] = history_counts.get('kite') / history_total\n",
        "print(intro_tf)\n",
        "print(history_tf)\n"
      ],
      "execution_count": 68,
      "outputs": [
        {
          "output_type": "stream",
          "text": [
            "{'kite': 0.0440771349862259, 'and': 0.027548209366391185, 'china': 0.0}\n",
            "{'kite': 0.020202020202020204, 'and': 0.030303030303030304, 'china': 0.010101010101010102}\n"
          ],
          "name": "stdout"
        }
      ]
    },
    {
      "cell_type": "code",
      "metadata": {
        "id": "45eTZmEhhg4M",
        "colab_type": "code",
        "colab": {
          "base_uri": "https://localhost:8080/",
          "height": 52
        },
        "outputId": "5c5ff284-4e04-4469-928d-cbef5df7d2a8"
      },
      "source": [
        "intro_tf['china'] = intro_counts['china'] / intro_total\n",
        "history_tf['china'] = history_counts.get('china') / history_total\n",
        "print(intro_tf)\n",
        "print(history_tf)"
      ],
      "execution_count": 69,
      "outputs": [
        {
          "output_type": "stream",
          "text": [
            "{'kite': 0.0440771349862259, 'and': 0.027548209366391185, 'china': 0.0}\n",
            "{'kite': 0.020202020202020204, 'and': 0.030303030303030304, 'china': 0.010101010101010102}\n"
          ],
          "name": "stdout"
        }
      ]
    },
    {
      "cell_type": "code",
      "metadata": {
        "id": "HTDWOzndh-6m",
        "colab_type": "code",
        "colab": {}
      },
      "source": [
        "# Calculate IDF\n",
        "num_docs = 2\n",
        "intro_idf = {} # dictionary\n",
        "history_idf = {} \n",
        "intro_idf['and'] = num_docs / num_docs_containing_and\n",
        "history_idf['and'] = num_docs / num_docs_containing_and\n",
        "intro_idf['kite'] = num_docs / num_docs_containing_kite\n",
        "history_idf['kite'] = num_docs / num_docs_containing_kite\n",
        "intro_idf['china'] = num_docs / num_docs_containing_china\n",
        "history_idf['china'] = num_docs / num_docs_containing_china\n"
      ],
      "execution_count": 0,
      "outputs": []
    },
    {
      "cell_type": "code",
      "metadata": {
        "id": "3VqJuj6amHRj",
        "colab_type": "code",
        "colab": {}
      },
      "source": [
        "# TF-IDF\n",
        "intro_tfidf = {} # dictionary\n",
        "intro_tfidf['and'] = intro_tf['and'] * intro_idf['and']\n",
        "intro_tfidf['kite'] = intro_tf['kite'] * intro_idf['kite']\n",
        "intro_tfidf['china'] = intro_tf['china'] * intro_idf['china']\n",
        "\n",
        "\n",
        "# TF-IDF\n",
        "history_tfidf = {} # dictionary\n",
        "history_tfidf['and'] = history_tf['and'] * history_idf['and']\n",
        "history_tfidf['kite'] = history_tf['kite'] * history_idf['kite']\n",
        "history_tfidf['china'] = history_tf['china'] * history_idf['china']"
      ],
      "execution_count": 0,
      "outputs": []
    },
    {
      "cell_type": "code",
      "metadata": {
        "id": "hF-noibmnOdq",
        "colab_type": "code",
        "colab": {
          "base_uri": "https://localhost:8080/",
          "height": 35
        },
        "outputId": "a8223533-505b-4fd5-f4cf-b8701a9895bd"
      },
      "source": [
        "intro_tfidf"
      ],
      "execution_count": 76,
      "outputs": [
        {
          "output_type": "execute_result",
          "data": {
            "text/plain": [
              "{'and': 0.027548209366391185, 'china': 0.0, 'kite': 0.0440771349862259}"
            ]
          },
          "metadata": {
            "tags": []
          },
          "execution_count": 76
        }
      ]
    },
    {
      "cell_type": "code",
      "metadata": {
        "id": "kabnjrr4ned1",
        "colab_type": "code",
        "colab": {
          "base_uri": "https://localhost:8080/",
          "height": 69
        },
        "outputId": "8bd5704f-123a-4358-c95c-58dddac5bec1"
      },
      "source": [
        "history_tfidf"
      ],
      "execution_count": 77,
      "outputs": [
        {
          "output_type": "execute_result",
          "data": {
            "text/plain": [
              "{'and': 0.030303030303030304,\n",
              " 'china': 0.020202020202020204,\n",
              " 'kite': 0.020202020202020204}"
            ]
          },
          "metadata": {
            "tags": []
          },
          "execution_count": 77
        }
      ]
    },
    {
      "cell_type": "code",
      "metadata": {
        "id": "AMBbg7xSCZ-i",
        "colab_type": "code",
        "colab": {
          "base_uri": "https://localhost:8080/",
          "height": 35
        },
        "outputId": "3e2a49ac-b0cf-4316-a873-2de6d3c0f8e4"
      },
      "source": [
        "len(docs)"
      ],
      "execution_count": 93,
      "outputs": [
        {
          "output_type": "execute_result",
          "data": {
            "text/plain": [
              "3"
            ]
          },
          "metadata": {
            "tags": []
          },
          "execution_count": 93
        }
      ]
    },
    {
      "cell_type": "code",
      "metadata": {
        "id": "vixMyNHPChcf",
        "colab_type": "code",
        "colab": {
          "base_uri": "https://localhost:8080/",
          "height": 329
        },
        "outputId": "1b21244c-74c6-41e2-dfa0-d6d396b190d0"
      },
      "source": [
        "zero_vector"
      ],
      "execution_count": 88,
      "outputs": [
        {
          "output_type": "execute_result",
          "data": {
            "text/plain": [
              "OrderedDict([(',', 0),\n",
              "             ('.', 0),\n",
              "             ('and', 0),\n",
              "             ('as', 0),\n",
              "             ('faster', 0),\n",
              "             ('get', 0),\n",
              "             ('got', 0),\n",
              "             ('hairy', 0),\n",
              "             ('harry', 0),\n",
              "             ('home', 0),\n",
              "             ('is', 0),\n",
              "             ('jill', 0),\n",
              "             ('not', 0),\n",
              "             ('store', 0),\n",
              "             ('than', 0),\n",
              "             ('the', 0),\n",
              "             ('to', 0),\n",
              "             ('would', 0)])"
            ]
          },
          "metadata": {
            "tags": []
          },
          "execution_count": 88
        }
      ]
    },
    {
      "cell_type": "code",
      "metadata": {
        "id": "tHQ8notnCtSi",
        "colab_type": "code",
        "colab": {
          "base_uri": "https://localhost:8080/",
          "height": 1000
        },
        "outputId": "0f8f8dc6-9698-459c-dbf6-291c82ab9580"
      },
      "source": [
        "# We use log scale for TF and IDF\n",
        "# Further, in each document vector, we replace each word's word_count with the word's TF-IDF\n",
        "document_tfidf_vectors = [] # we are using list\n",
        "for doc in docs:\n",
        "  vec = copy.copy(zero_vector)\n",
        "  tokens = tokenizer.tokenize(doc.lower())\n",
        "  token_counts = Counter(tokens)\n",
        "  #print(token_counts)\n",
        "  for key,value in token_counts.items():\n",
        "    docs_containing_key = 0\n",
        "    for _doc in docs:\n",
        "      if key in _doc:\n",
        "        print(key,\" is present in docs\")\n",
        "        docs_containing_key += 1\n",
        "    tf = value/len(lexicon)\n",
        "    print(\"tf: \",tf)\n",
        "    if docs_containing_key > 0:\n",
        "      idf = len(docs)/docs_containing_key\n",
        "      print(\"idf: \", idf)\n",
        "    else:\n",
        "      idf = 0\n",
        "      print(\"idf0: \", idf)\n",
        "    \n",
        "    tfidf = tf*idf\n",
        "    print(\"tfidf: \", tfidf)\n",
        "    vec[key] = tfidf\n",
        "  document_tfidf_vectors.append(vec)\n",
        "  print(vec)\n",
        "\n",
        "#document_tfidf_vectors\n",
        "\n",
        "\n"
      ],
      "execution_count": 99,
      "outputs": [
        {
          "output_type": "stream",
          "text": [
            "the  is present in docs\n",
            "tf:  0.16666666666666666\n",
            "idf:  3.0\n",
            "tfidf:  0.5\n",
            "faster  is present in docs\n",
            "faster  is present in docs\n",
            "tf:  0.16666666666666666\n",
            "idf:  1.5\n",
            "tfidf:  0.25\n",
            "tf:  0.1111111111111111\n",
            "idf0:  0\n",
            "tfidf:  0.0\n",
            "got  is present in docs\n",
            "tf:  0.05555555555555555\n",
            "idf:  3.0\n",
            "tfidf:  0.16666666666666666\n",
            "to  is present in docs\n",
            "tf:  0.05555555555555555\n",
            "idf:  3.0\n",
            "tfidf:  0.16666666666666666\n",
            "store  is present in docs\n",
            "tf:  0.05555555555555555\n",
            "idf:  3.0\n",
            "tfidf:  0.16666666666666666\n",
            ",  is present in docs\n",
            "tf:  0.05555555555555555\n",
            "idf:  3.0\n",
            "tfidf:  0.16666666666666666\n",
            "and  is present in docs\n",
            "and  is present in docs\n",
            "tf:  0.05555555555555555\n",
            "idf:  1.5\n",
            "tfidf:  0.08333333333333333\n",
            "would  is present in docs\n",
            "tf:  0.05555555555555555\n",
            "idf:  3.0\n",
            "tfidf:  0.16666666666666666\n",
            "get  is present in docs\n",
            "tf:  0.05555555555555555\n",
            "idf:  3.0\n",
            "tfidf:  0.16666666666666666\n",
            "home  is present in docs\n",
            "tf:  0.05555555555555555\n",
            "idf:  3.0\n",
            "tfidf:  0.16666666666666666\n",
            ".  is present in docs\n",
            ".  is present in docs\n",
            ".  is present in docs\n",
            "tf:  0.05555555555555555\n",
            "idf:  1.0\n",
            "tfidf:  0.05555555555555555\n",
            "OrderedDict([(',', 0.16666666666666666), ('.', 0.05555555555555555), ('and', 0.08333333333333333), ('as', 0), ('faster', 0.25), ('get', 0.16666666666666666), ('got', 0.16666666666666666), ('hairy', 0), ('harry', 0.0), ('home', 0.16666666666666666), ('is', 0), ('jill', 0), ('not', 0), ('store', 0.16666666666666666), ('than', 0), ('the', 0.5), ('to', 0.16666666666666666), ('would', 0.16666666666666666)])\n",
            "tf:  0.05555555555555555\n",
            "idf0:  0\n",
            "tfidf:  0.0\n",
            "is  is present in docs\n",
            "is  is present in docs\n",
            "tf:  0.05555555555555555\n",
            "idf:  1.5\n",
            "tfidf:  0.08333333333333333\n",
            "hairy  is present in docs\n",
            "hairy  is present in docs\n",
            "tf:  0.05555555555555555\n",
            "idf:  1.5\n",
            "tfidf:  0.08333333333333333\n",
            "and  is present in docs\n",
            "and  is present in docs\n",
            "tf:  0.05555555555555555\n",
            "idf:  1.5\n",
            "tfidf:  0.08333333333333333\n",
            "faster  is present in docs\n",
            "faster  is present in docs\n",
            "tf:  0.05555555555555555\n",
            "idf:  1.5\n",
            "tfidf:  0.08333333333333333\n",
            "than  is present in docs\n",
            "tf:  0.05555555555555555\n",
            "idf:  3.0\n",
            "tfidf:  0.16666666666666666\n",
            "tf:  0.05555555555555555\n",
            "idf0:  0\n",
            "tfidf:  0.0\n",
            ".  is present in docs\n",
            ".  is present in docs\n",
            ".  is present in docs\n",
            "tf:  0.05555555555555555\n",
            "idf:  1.0\n",
            "tfidf:  0.05555555555555555\n",
            "OrderedDict([(',', 0), ('.', 0.05555555555555555), ('and', 0.08333333333333333), ('as', 0), ('faster', 0.08333333333333333), ('get', 0), ('got', 0), ('hairy', 0.08333333333333333), ('harry', 0.0), ('home', 0), ('is', 0.08333333333333333), ('jill', 0.0), ('not', 0), ('store', 0), ('than', 0.16666666666666666), ('the', 0), ('to', 0), ('would', 0)])\n",
            "tf:  0.05555555555555555\n",
            "idf0:  0\n",
            "tfidf:  0.0\n",
            "is  is present in docs\n",
            "is  is present in docs\n",
            "tf:  0.05555555555555555\n",
            "idf:  1.5\n",
            "tfidf:  0.08333333333333333\n",
            "not  is present in docs\n",
            "tf:  0.05555555555555555\n",
            "idf:  3.0\n",
            "tfidf:  0.16666666666666666\n",
            "as  is present in docs\n",
            "as  is present in docs\n",
            "as  is present in docs\n",
            "tf:  0.1111111111111111\n",
            "idf:  1.0\n",
            "tfidf:  0.1111111111111111\n",
            "hairy  is present in docs\n",
            "hairy  is present in docs\n",
            "tf:  0.05555555555555555\n",
            "idf:  1.5\n",
            "tfidf:  0.08333333333333333\n",
            "tf:  0.05555555555555555\n",
            "idf0:  0\n",
            "tfidf:  0.0\n",
            ".  is present in docs\n",
            ".  is present in docs\n",
            ".  is present in docs\n",
            "tf:  0.05555555555555555\n",
            "idf:  1.0\n",
            "tfidf:  0.05555555555555555\n",
            "OrderedDict([(',', 0), ('.', 0.05555555555555555), ('and', 0), ('as', 0.1111111111111111), ('faster', 0), ('get', 0), ('got', 0), ('hairy', 0.08333333333333333), ('harry', 0.0), ('home', 0), ('is', 0.08333333333333333), ('jill', 0.0), ('not', 0.16666666666666666), ('store', 0), ('than', 0), ('the', 0), ('to', 0), ('would', 0)])\n"
          ],
          "name": "stdout"
        }
      ]
    },
    {
      "cell_type": "code",
      "metadata": {
        "id": "kctebsQ58ONI",
        "colab_type": "code",
        "colab": {
          "base_uri": "https://localhost:8080/",
          "height": 953
        },
        "outputId": "ceb79334-a41a-4ee1-f9e5-063eff4894d3"
      },
      "source": [
        "document_tfidf_vectors"
      ],
      "execution_count": 100,
      "outputs": [
        {
          "output_type": "execute_result",
          "data": {
            "text/plain": [
              "[OrderedDict([(',', 0.16666666666666666),\n",
              "              ('.', 0.05555555555555555),\n",
              "              ('and', 0.08333333333333333),\n",
              "              ('as', 0),\n",
              "              ('faster', 0.25),\n",
              "              ('get', 0.16666666666666666),\n",
              "              ('got', 0.16666666666666666),\n",
              "              ('hairy', 0),\n",
              "              ('harry', 0.0),\n",
              "              ('home', 0.16666666666666666),\n",
              "              ('is', 0),\n",
              "              ('jill', 0),\n",
              "              ('not', 0),\n",
              "              ('store', 0.16666666666666666),\n",
              "              ('than', 0),\n",
              "              ('the', 0.5),\n",
              "              ('to', 0.16666666666666666),\n",
              "              ('would', 0.16666666666666666)]),\n",
              " OrderedDict([(',', 0),\n",
              "              ('.', 0.05555555555555555),\n",
              "              ('and', 0.08333333333333333),\n",
              "              ('as', 0),\n",
              "              ('faster', 0.08333333333333333),\n",
              "              ('get', 0),\n",
              "              ('got', 0),\n",
              "              ('hairy', 0.08333333333333333),\n",
              "              ('harry', 0.0),\n",
              "              ('home', 0),\n",
              "              ('is', 0.08333333333333333),\n",
              "              ('jill', 0.0),\n",
              "              ('not', 0),\n",
              "              ('store', 0),\n",
              "              ('than', 0.16666666666666666),\n",
              "              ('the', 0),\n",
              "              ('to', 0),\n",
              "              ('would', 0)]),\n",
              " OrderedDict([(',', 0),\n",
              "              ('.', 0.05555555555555555),\n",
              "              ('and', 0),\n",
              "              ('as', 0.1111111111111111),\n",
              "              ('faster', 0),\n",
              "              ('get', 0),\n",
              "              ('got', 0),\n",
              "              ('hairy', 0.08333333333333333),\n",
              "              ('harry', 0.0),\n",
              "              ('home', 0),\n",
              "              ('is', 0.08333333333333333),\n",
              "              ('jill', 0.0),\n",
              "              ('not', 0.16666666666666666),\n",
              "              ('store', 0),\n",
              "              ('than', 0),\n",
              "              ('the', 0),\n",
              "              ('to', 0),\n",
              "              ('would', 0)])]"
            ]
          },
          "metadata": {
            "tags": []
          },
          "execution_count": 100
        }
      ]
    },
    {
      "cell_type": "code",
      "metadata": {
        "id": "xZx9DqSV8Pu3",
        "colab_type": "code",
        "colab": {}
      },
      "source": [
        "query = \"How long does it take to get to the store?\"\n",
        "query_vec = copy.copy(zero_vector)\n",
        "query_vec = copy.copy(zero_vector)\n",
        "\n",
        "tokens = tokenizer.tokenize(query.lower())\n",
        "token_counts = Counter(tokens)\n",
        " \n",
        "for key, value in token_counts.items():\n",
        "    docs_containing_key = 0\n",
        "    for _doc in docs:\n",
        "      if key in _doc.lower():\n",
        "        docs_containing_key += 1\n",
        "    if docs_containing_key == 0:\n",
        "      continue\n",
        "    tf = value / len(tokens)\n",
        "    idf = len(docs) / docs_containing_key\n",
        "    query_vec[key] = tf * idf"
      ],
      "execution_count": 0,
      "outputs": []
    },
    {
      "cell_type": "code",
      "metadata": {
        "id": "WQAnqEXK_MSf",
        "colab_type": "code",
        "colab": {
          "base_uri": "https://localhost:8080/",
          "height": 329
        },
        "outputId": "bcb48cbf-a511-4e33-8e42-87c7f554622c"
      },
      "source": [
        "query_vec"
      ],
      "execution_count": 112,
      "outputs": [
        {
          "output_type": "execute_result",
          "data": {
            "text/plain": [
              "OrderedDict([(',', 0),\n",
              "             ('.', 0),\n",
              "             ('and', 0),\n",
              "             ('as', 0),\n",
              "             ('faster', 0),\n",
              "             ('get', 0.2727272727272727),\n",
              "             ('got', 0),\n",
              "             ('hairy', 0),\n",
              "             ('harry', 0),\n",
              "             ('home', 0),\n",
              "             ('is', 0),\n",
              "             ('jill', 0),\n",
              "             ('not', 0),\n",
              "             ('store', 0.2727272727272727),\n",
              "             ('than', 0),\n",
              "             ('the', 0.2727272727272727),\n",
              "             ('to', 0.5454545454545454),\n",
              "             ('would', 0)])"
            ]
          },
          "metadata": {
            "tags": []
          },
          "execution_count": 112
        }
      ]
    },
    {
      "cell_type": "code",
      "metadata": {
        "id": "uitkb_k6Ay8V",
        "colab_type": "code",
        "colab": {
          "base_uri": "https://localhost:8080/",
          "height": 55
        },
        "outputId": "43a6082c-928a-4adc-b1b6-51d16446c336"
      },
      "source": [
        "document_tfidf_vectors[0].values()"
      ],
      "execution_count": 113,
      "outputs": [
        {
          "output_type": "execute_result",
          "data": {
            "text/plain": [
              "odict_values([0.16666666666666666, 0.05555555555555555, 0.08333333333333333, 0, 0.25, 0.16666666666666666, 0.16666666666666666, 0, 0.0, 0.16666666666666666, 0, 0, 0, 0.16666666666666666, 0, 0.5, 0.16666666666666666, 0.16666666666666666])"
            ]
          },
          "metadata": {
            "tags": []
          },
          "execution_count": 113
        }
      ]
    },
    {
      "cell_type": "code",
      "metadata": {
        "id": "zPXBh-ZTBLj0",
        "colab_type": "code",
        "colab": {}
      },
      "source": [
        "# calculate cosine similarity using A.B / (modA.modB)\n",
        "import math\n",
        "import numpy\n",
        "import numpy as np\n",
        "def cosine_similarity(vec1,vec2): # vec1 and vec2 are dictionaries\n",
        "  vec1 = numpy.array([v for v in vec1.values()])\n",
        "  vec2 = numpy.array([v for v in vec2.values()])\n",
        "  return vec1.dot(vec2)/(np.linalg.norm(vec1)*np.linalg.norm(vec2))\n",
        "\n"
      ],
      "execution_count": 0,
      "outputs": []
    },
    {
      "cell_type": "code",
      "metadata": {
        "id": "r8X9BOxRRAqt",
        "colab_type": "code",
        "colab": {
          "base_uri": "https://localhost:8080/",
          "height": 35
        },
        "outputId": "0aa89afc-69f9-4641-ec4d-7d3fd3b486e7"
      },
      "source": [
        "cosine_similarity(document_tfidf_vectors[0],query_vec)"
      ],
      "execution_count": 118,
      "outputs": [
        {
          "output_type": "execute_result",
          "data": {
            "text/plain": [
              "0.6132857433407973"
            ]
          },
          "metadata": {
            "tags": []
          },
          "execution_count": 118
        }
      ]
    },
    {
      "cell_type": "code",
      "metadata": {
        "id": "HH5eg-c-YM40",
        "colab_type": "code",
        "colab": {
          "base_uri": "https://localhost:8080/",
          "height": 35
        },
        "outputId": "93f9e884-6891-4736-a721-4b040e52cec7"
      },
      "source": [
        "cosine_similarity(document_tfidf_vectors[1],query_vec)"
      ],
      "execution_count": 119,
      "outputs": [
        {
          "output_type": "execute_result",
          "data": {
            "text/plain": [
              "0.0"
            ]
          },
          "metadata": {
            "tags": []
          },
          "execution_count": 119
        }
      ]
    },
    {
      "cell_type": "code",
      "metadata": {
        "id": "HsWF9w_UYbZh",
        "colab_type": "code",
        "colab": {
          "base_uri": "https://localhost:8080/",
          "height": 35
        },
        "outputId": "d7d9fadf-7209-4e9a-97f4-db915ec7510b"
      },
      "source": [
        "cosine_similarity(document_tfidf_vectors[2],query_vec)"
      ],
      "execution_count": 121,
      "outputs": [
        {
          "output_type": "execute_result",
          "data": {
            "text/plain": [
              "0.0"
            ]
          },
          "metadata": {
            "tags": []
          },
          "execution_count": 121
        }
      ]
    },
    {
      "cell_type": "markdown",
      "metadata": {
        "id": "WRvGs_fIfLy8",
        "colab_type": "text"
      },
      "source": [
        "**We infer that only document 0 is most relevant for the search query**"
      ]
    }
  ]
}