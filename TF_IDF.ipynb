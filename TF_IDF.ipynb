{
  "nbformat": 4,
  "nbformat_minor": 0,
  "metadata": {
    "colab": {
      "name": "TF-IDF.ipynb",
      "provenance": [],
      "collapsed_sections": []
    },
    "kernelspec": {
      "name": "python3",
      "display_name": "Python 3"
    }
  },
  "cells": [
    {
      "cell_type": "code",
      "metadata": {
        "id": "AwxumciQdATF",
        "colab_type": "code",
        "colab": {
          "base_uri": "https://localhost:8080/",
          "height": 51
        },
        "outputId": "f8a667b2-bce4-4636-f6bb-f03ff2a680e0"
      },
      "source": [
        "import pandas as pd\n",
        "import numpy as np\n",
        "import nltk\n",
        "nltk.download('stopwords')\n",
        "stopwords = nltk.corpus.stopwords.words('english')"
      ],
      "execution_count": 2,
      "outputs": [
        {
          "output_type": "stream",
          "text": [
            "[nltk_data] Downloading package stopwords to /root/nltk_data...\n",
            "[nltk_data]   Unzipping corpora/stopwords.zip.\n"
          ],
          "name": "stdout"
        }
      ]
    },
    {
      "cell_type": "code",
      "metadata": {
        "id": "Z93cxRoofxZW",
        "colab_type": "code",
        "colab": {
          "base_uri": "https://localhost:8080/",
          "height": 340
        },
        "outputId": "574fd6a0-a74c-4ef3-98f9-6f3f273bb80e"
      },
      "source": [
        "from nltk.tokenize import TreebankWordTokenizer\n",
        "sentence = \"\"\"The faster Harry got to the store, the faster Harry, the faster, would get home.\"\"\"\n",
        "tokenizer = TreebankWordTokenizer()\n",
        "tokens = tokenizer.tokenize(sentence.lower())\n",
        "tokens"
      ],
      "execution_count": 3,
      "outputs": [
        {
          "output_type": "execute_result",
          "data": {
            "text/plain": [
              "['the',\n",
              " 'faster',\n",
              " 'harry',\n",
              " 'got',\n",
              " 'to',\n",
              " 'the',\n",
              " 'store',\n",
              " ',',\n",
              " 'the',\n",
              " 'faster',\n",
              " 'harry',\n",
              " ',',\n",
              " 'the',\n",
              " 'faster',\n",
              " ',',\n",
              " 'would',\n",
              " 'get',\n",
              " 'home',\n",
              " '.']"
            ]
          },
          "metadata": {
            "tags": []
          },
          "execution_count": 3
        }
      ]
    },
    {
      "cell_type": "code",
      "metadata": {
        "id": "IDDxIo4ehuLx",
        "colab_type": "code",
        "colab": {
          "base_uri": "https://localhost:8080/",
          "height": 204
        },
        "outputId": "e6fa2579-7788-4a27-a860-54d26e47f1f0"
      },
      "source": [
        "from collections import Counter\n",
        "bag_of_words = Counter(tokens)\n",
        "bag_of_words"
      ],
      "execution_count": 4,
      "outputs": [
        {
          "output_type": "execute_result",
          "data": {
            "text/plain": [
              "Counter({',': 3,\n",
              "         '.': 1,\n",
              "         'faster': 3,\n",
              "         'get': 1,\n",
              "         'got': 1,\n",
              "         'harry': 2,\n",
              "         'home': 1,\n",
              "         'store': 1,\n",
              "         'the': 4,\n",
              "         'to': 1,\n",
              "         'would': 1})"
            ]
          },
          "metadata": {
            "tags": []
          },
          "execution_count": 4
        }
      ]
    },
    {
      "cell_type": "code",
      "metadata": {
        "id": "0zYuCKIOiCYS",
        "colab_type": "code",
        "colab": {
          "base_uri": "https://localhost:8080/",
          "height": 34
        },
        "outputId": "3a993407-ad97-43b3-ef24-2ba4b69322cc"
      },
      "source": [
        "bag_of_words.most_common(4)"
      ],
      "execution_count": 5,
      "outputs": [
        {
          "output_type": "execute_result",
          "data": {
            "text/plain": [
              "[('the', 4), ('faster', 3), (',', 3), ('harry', 2)]"
            ]
          },
          "metadata": {
            "tags": []
          },
          "execution_count": 5
        }
      ]
    },
    {
      "cell_type": "code",
      "metadata": {
        "id": "XCZsk5Keif0z",
        "colab_type": "code",
        "colab": {
          "base_uri": "https://localhost:8080/",
          "height": 34
        },
        "outputId": "efdf31fb-0b9a-4caf-8ce8-5d8b60a74741"
      },
      "source": [
        "times_harry_appears = bag_of_words['harry']\n",
        "num_unique_words = len(bag_of_words)\n",
        "tf = times_harry_appears/num_unique_words\n",
        "tf"
      ],
      "execution_count": 7,
      "outputs": [
        {
          "output_type": "execute_result",
          "data": {
            "text/plain": [
              "0.18181818181818182"
            ]
          },
          "metadata": {
            "tags": []
          },
          "execution_count": 7
        }
      ]
    },
    {
      "cell_type": "code",
      "metadata": {
        "id": "P-vFFV_7jScW",
        "colab_type": "code",
        "colab": {
          "base_uri": "https://localhost:8080/",
          "height": 1000
        },
        "outputId": "23fb142d-f14f-4343-e075-1205c28b5ab1"
      },
      "source": [
        "pip install nlpia"
      ],
      "execution_count": 9,
      "outputs": [
        {
          "output_type": "stream",
          "text": [
            "Collecting nlpia\n",
            "\u001b[?25l  Downloading https://files.pythonhosted.org/packages/f3/3d/28062a92c28be24ceba9b826624f12a0caf2e6662403835b6cda68ce2845/nlpia-0.2.14-py2.py3-none-any.whl (32.0MB)\n",
            "\u001b[K     |████████████████████████████████| 32.0MB 144kB/s \n",
            "\u001b[?25hCollecting html2text\n",
            "  Downloading https://files.pythonhosted.org/packages/ae/88/14655f727f66b3e3199f4467bafcc88283e6c31b562686bf606264e09181/html2text-2020.1.16-py3-none-any.whl\n",
            "Requirement already satisfied: spacy in /usr/local/lib/python3.6/dist-packages (from nlpia) (2.2.4)\n",
            "Requirement already satisfied: pandas-datareader in /usr/local/lib/python3.6/dist-packages (from nlpia) (0.7.4)\n",
            "Requirement already satisfied: seaborn in /usr/local/lib/python3.6/dist-packages (from nlpia) (0.10.0)\n",
            "Requirement already satisfied: pandas in /usr/local/lib/python3.6/dist-packages (from nlpia) (0.25.3)\n",
            "Requirement already satisfied: tqdm in /usr/local/lib/python3.6/dist-packages (from nlpia) (4.38.0)\n",
            "Requirement already satisfied: keras in /usr/local/lib/python3.6/dist-packages (from nlpia) (2.2.5)\n",
            "Requirement already satisfied: scikit-learn in /usr/local/lib/python3.6/dist-packages (from nlpia) (0.22.2.post1)\n",
            "Collecting python-Levenshtein\n",
            "\u001b[?25l  Downloading https://files.pythonhosted.org/packages/42/a9/d1785c85ebf9b7dfacd08938dd028209c34a0ea3b1bcdb895208bd40a67d/python-Levenshtein-0.12.0.tar.gz (48kB)\n",
            "\u001b[K     |████████████████████████████████| 51kB 5.9MB/s \n",
            "\u001b[?25hRequirement already satisfied: scipy in /usr/local/lib/python3.6/dist-packages (from nlpia) (1.4.1)\n",
            "Collecting pugnlp\n",
            "\u001b[?25l  Downloading https://files.pythonhosted.org/packages/a3/c6/17a0ef5af34e20b595f1983be0468efa9f903a17a5af2a0a980ecaf9c411/pugnlp-0.2.5-py2.py3-none-any.whl (706kB)\n",
            "\u001b[K     |████████████████████████████████| 716kB 41.5MB/s \n",
            "\u001b[?25hRequirement already satisfied: future in /usr/local/lib/python3.6/dist-packages (from nlpia) (0.16.0)\n",
            "Collecting pypandoc\n",
            "  Downloading https://files.pythonhosted.org/packages/71/81/00184643e5a10a456b4118fc12c96780823adb8ed974eb2289f29703b29b/pypandoc-1.4.tar.gz\n",
            "Requirement already satisfied: matplotlib in /usr/local/lib/python3.6/dist-packages (from nlpia) (3.2.1)\n",
            "Requirement already satisfied: jupyter in /usr/local/lib/python3.6/dist-packages (from nlpia) (1.0.0)\n",
            "Requirement already satisfied: lxml in /usr/local/lib/python3.6/dist-packages (from nlpia) (4.2.6)\n",
            "Requirement already satisfied: regex in /usr/local/lib/python3.6/dist-packages (from nlpia) (2019.12.20)\n",
            "Requirement already satisfied: plotly in /usr/local/lib/python3.6/dist-packages (from nlpia) (4.4.1)\n",
            "Requirement already satisfied: gensim in /usr/local/lib/python3.6/dist-packages (from nlpia) (3.6.0)\n",
            "Requirement already satisfied: tensorflow in /tensorflow-1.15.0/python3.6 (from nlpia) (1.15.0)\n",
            "Requirement already satisfied: nltk in /usr/local/lib/python3.6/dist-packages (from nlpia) (3.2.5)\n",
            "Requirement already satisfied: h5py in /usr/local/lib/python3.6/dist-packages (from nlpia) (2.8.0)\n",
            "Requirement already satisfied: blis<0.5.0,>=0.4.0 in /usr/local/lib/python3.6/dist-packages (from spacy->nlpia) (0.4.1)\n",
            "Requirement already satisfied: requests<3.0.0,>=2.13.0 in /usr/local/lib/python3.6/dist-packages (from spacy->nlpia) (2.21.0)\n",
            "Requirement already satisfied: cymem<2.1.0,>=2.0.2 in /usr/local/lib/python3.6/dist-packages (from spacy->nlpia) (2.0.3)\n",
            "Requirement already satisfied: thinc==7.4.0 in /usr/local/lib/python3.6/dist-packages (from spacy->nlpia) (7.4.0)\n",
            "Requirement already satisfied: numpy>=1.15.0 in /usr/local/lib/python3.6/dist-packages (from spacy->nlpia) (1.18.2)\n",
            "Requirement already satisfied: wasabi<1.1.0,>=0.4.0 in /usr/local/lib/python3.6/dist-packages (from spacy->nlpia) (0.6.0)\n",
            "Requirement already satisfied: setuptools in /usr/local/lib/python3.6/dist-packages (from spacy->nlpia) (46.0.0)\n",
            "Requirement already satisfied: catalogue<1.1.0,>=0.0.7 in /usr/local/lib/python3.6/dist-packages (from spacy->nlpia) (1.0.0)\n",
            "Requirement already satisfied: plac<1.2.0,>=0.9.6 in /usr/local/lib/python3.6/dist-packages (from spacy->nlpia) (1.1.3)\n",
            "Requirement already satisfied: preshed<3.1.0,>=3.0.2 in /usr/local/lib/python3.6/dist-packages (from spacy->nlpia) (3.0.2)\n",
            "Requirement already satisfied: murmurhash<1.1.0,>=0.28.0 in /usr/local/lib/python3.6/dist-packages (from spacy->nlpia) (1.0.2)\n",
            "Requirement already satisfied: srsly<1.1.0,>=1.0.2 in /usr/local/lib/python3.6/dist-packages (from spacy->nlpia) (1.0.2)\n",
            "Requirement already satisfied: wrapt in /usr/local/lib/python3.6/dist-packages (from pandas-datareader->nlpia) (1.12.1)\n",
            "Requirement already satisfied: pytz>=2017.2 in /usr/local/lib/python3.6/dist-packages (from pandas->nlpia) (2018.9)\n",
            "Requirement already satisfied: python-dateutil>=2.6.1 in /usr/local/lib/python3.6/dist-packages (from pandas->nlpia) (2.8.1)\n",
            "Requirement already satisfied: six>=1.9.0 in /usr/local/lib/python3.6/dist-packages (from keras->nlpia) (1.12.0)\n",
            "Requirement already satisfied: keras-preprocessing>=1.1.0 in /usr/local/lib/python3.6/dist-packages (from keras->nlpia) (1.1.0)\n",
            "Requirement already satisfied: keras-applications>=1.0.8 in /usr/local/lib/python3.6/dist-packages (from keras->nlpia) (1.0.8)\n",
            "Requirement already satisfied: pyyaml in /usr/local/lib/python3.6/dist-packages (from keras->nlpia) (3.13)\n",
            "Requirement already satisfied: joblib>=0.11 in /usr/local/lib/python3.6/dist-packages (from scikit-learn->nlpia) (0.14.1)\n",
            "Requirement already satisfied: coverage in /usr/local/lib/python3.6/dist-packages (from pugnlp->nlpia) (3.7.1)\n",
            "Collecting fuzzywuzzy\n",
            "  Downloading https://files.pythonhosted.org/packages/43/ff/74f23998ad2f93b945c0309f825be92e04e0348e062026998b5eefef4c33/fuzzywuzzy-0.18.0-py2.py3-none-any.whl\n",
            "Requirement already satisfied: python-slugify in /usr/local/lib/python3.6/dist-packages (from pugnlp->nlpia) (4.0.0)\n",
            "Requirement already satisfied: wheel in /usr/local/lib/python3.6/dist-packages (from pugnlp->nlpia) (0.34.2)\n",
            "Requirement already satisfied: pip in /usr/local/lib/python3.6/dist-packages (from pugnlp->nlpia) (19.3.1)\n",
            "Requirement already satisfied: cycler>=0.10 in /usr/local/lib/python3.6/dist-packages (from matplotlib->nlpia) (0.10.0)\n",
            "Requirement already satisfied: kiwisolver>=1.0.1 in /usr/local/lib/python3.6/dist-packages (from matplotlib->nlpia) (1.1.0)\n",
            "Requirement already satisfied: pyparsing!=2.0.4,!=2.1.2,!=2.1.6,>=2.0.1 in /usr/local/lib/python3.6/dist-packages (from matplotlib->nlpia) (2.4.6)\n",
            "Requirement already satisfied: ipykernel in /usr/local/lib/python3.6/dist-packages (from jupyter->nlpia) (4.6.1)\n",
            "Requirement already satisfied: ipywidgets in /usr/local/lib/python3.6/dist-packages (from jupyter->nlpia) (7.5.1)\n",
            "Requirement already satisfied: nbconvert in /usr/local/lib/python3.6/dist-packages (from jupyter->nlpia) (5.6.1)\n",
            "Requirement already satisfied: qtconsole in /usr/local/lib/python3.6/dist-packages (from jupyter->nlpia) (4.7.1)\n",
            "Requirement already satisfied: jupyter-console in /usr/local/lib/python3.6/dist-packages (from jupyter->nlpia) (5.2.0)\n",
            "Requirement already satisfied: notebook in /usr/local/lib/python3.6/dist-packages (from jupyter->nlpia) (5.2.2)\n",
            "Requirement already satisfied: retrying>=1.3.3 in /usr/local/lib/python3.6/dist-packages (from plotly->nlpia) (1.3.3)\n",
            "Requirement already satisfied: smart-open>=1.2.1 in /usr/local/lib/python3.6/dist-packages (from gensim->nlpia) (1.10.0)\n",
            "Requirement already satisfied: protobuf>=3.6.1 in /usr/local/lib/python3.6/dist-packages (from tensorflow->nlpia) (3.10.0)\n",
            "Requirement already satisfied: gast==0.2.2 in /usr/local/lib/python3.6/dist-packages (from tensorflow->nlpia) (0.2.2)\n",
            "Requirement already satisfied: opt-einsum>=2.3.2 in /usr/local/lib/python3.6/dist-packages (from tensorflow->nlpia) (3.2.0)\n",
            "Requirement already satisfied: astor>=0.6.0 in /usr/local/lib/python3.6/dist-packages (from tensorflow->nlpia) (0.8.1)\n",
            "Requirement already satisfied: absl-py>=0.7.0 in /usr/local/lib/python3.6/dist-packages (from tensorflow->nlpia) (0.9.0)\n",
            "Requirement already satisfied: grpcio>=1.8.6 in /usr/local/lib/python3.6/dist-packages (from tensorflow->nlpia) (1.24.3)\n",
            "Requirement already satisfied: tensorflow-estimator==1.15.1 in /tensorflow-1.15.0/python3.6 (from tensorflow->nlpia) (1.15.1)\n",
            "Requirement already satisfied: termcolor>=1.1.0 in /usr/local/lib/python3.6/dist-packages (from tensorflow->nlpia) (1.1.0)\n",
            "Requirement already satisfied: tensorboard<1.16.0,>=1.15.0 in /tensorflow-1.15.0/python3.6 (from tensorflow->nlpia) (1.15.0)\n",
            "Requirement already satisfied: google-pasta>=0.1.6 in /usr/local/lib/python3.6/dist-packages (from tensorflow->nlpia) (0.2.0)\n",
            "Requirement already satisfied: urllib3<1.25,>=1.21.1 in /usr/local/lib/python3.6/dist-packages (from requests<3.0.0,>=2.13.0->spacy->nlpia) (1.24.3)\n",
            "Requirement already satisfied: chardet<3.1.0,>=3.0.2 in /usr/local/lib/python3.6/dist-packages (from requests<3.0.0,>=2.13.0->spacy->nlpia) (3.0.4)\n",
            "Requirement already satisfied: idna<2.9,>=2.5 in /usr/local/lib/python3.6/dist-packages (from requests<3.0.0,>=2.13.0->spacy->nlpia) (2.8)\n",
            "Requirement already satisfied: certifi>=2017.4.17 in /usr/local/lib/python3.6/dist-packages (from requests<3.0.0,>=2.13.0->spacy->nlpia) (2019.11.28)\n",
            "Requirement already satisfied: importlib-metadata>=0.20; python_version < \"3.8\" in /usr/local/lib/python3.6/dist-packages (from catalogue<1.1.0,>=0.0.7->spacy->nlpia) (1.5.0)\n",
            "Requirement already satisfied: text-unidecode>=1.3 in /usr/local/lib/python3.6/dist-packages (from python-slugify->pugnlp->nlpia) (1.3)\n",
            "Requirement already satisfied: jupyter-client in /usr/local/lib/python3.6/dist-packages (from ipykernel->jupyter->nlpia) (5.3.4)\n",
            "Requirement already satisfied: tornado>=4.0 in /usr/local/lib/python3.6/dist-packages (from ipykernel->jupyter->nlpia) (4.5.3)\n",
            "Requirement already satisfied: ipython>=4.0.0 in /usr/local/lib/python3.6/dist-packages (from ipykernel->jupyter->nlpia) (5.5.0)\n",
            "Requirement already satisfied: traitlets>=4.1.0 in /usr/local/lib/python3.6/dist-packages (from ipykernel->jupyter->nlpia) (4.3.3)\n",
            "Requirement already satisfied: widgetsnbextension~=3.5.0 in /usr/local/lib/python3.6/dist-packages (from ipywidgets->jupyter->nlpia) (3.5.1)\n",
            "Requirement already satisfied: nbformat>=4.2.0 in /usr/local/lib/python3.6/dist-packages (from ipywidgets->jupyter->nlpia) (5.0.4)\n",
            "Requirement already satisfied: testpath in /usr/local/lib/python3.6/dist-packages (from nbconvert->jupyter->nlpia) (0.4.4)\n",
            "Requirement already satisfied: jinja2>=2.4 in /usr/local/lib/python3.6/dist-packages (from nbconvert->jupyter->nlpia) (2.11.1)\n",
            "Requirement already satisfied: mistune<2,>=0.8.1 in /usr/local/lib/python3.6/dist-packages (from nbconvert->jupyter->nlpia) (0.8.4)\n",
            "Requirement already satisfied: bleach in /usr/local/lib/python3.6/dist-packages (from nbconvert->jupyter->nlpia) (3.1.3)\n",
            "Requirement already satisfied: defusedxml in /usr/local/lib/python3.6/dist-packages (from nbconvert->jupyter->nlpia) (0.6.0)\n",
            "Requirement already satisfied: pandocfilters>=1.4.1 in /usr/local/lib/python3.6/dist-packages (from nbconvert->jupyter->nlpia) (1.4.2)\n",
            "Requirement already satisfied: jupyter-core in /usr/local/lib/python3.6/dist-packages (from nbconvert->jupyter->nlpia) (4.6.3)\n",
            "Requirement already satisfied: pygments in /usr/local/lib/python3.6/dist-packages (from nbconvert->jupyter->nlpia) (2.1.3)\n",
            "Requirement already satisfied: entrypoints>=0.2.2 in /usr/local/lib/python3.6/dist-packages (from nbconvert->jupyter->nlpia) (0.3)\n",
            "Requirement already satisfied: ipython-genutils in /usr/local/lib/python3.6/dist-packages (from qtconsole->jupyter->nlpia) (0.2.0)\n",
            "Requirement already satisfied: qtpy in /usr/local/lib/python3.6/dist-packages (from qtconsole->jupyter->nlpia) (1.9.0)\n",
            "Requirement already satisfied: prompt-toolkit<2.0.0,>=1.0.0 in /usr/local/lib/python3.6/dist-packages (from jupyter-console->jupyter->nlpia) (1.0.18)\n",
            "Requirement already satisfied: terminado>=0.3.3; sys_platform != \"win32\" in /usr/local/lib/python3.6/dist-packages (from notebook->jupyter->nlpia) (0.8.3)\n",
            "Requirement already satisfied: google-cloud-storage in /usr/local/lib/python3.6/dist-packages (from smart-open>=1.2.1->gensim->nlpia) (1.18.1)\n",
            "Requirement already satisfied: boto3 in /usr/local/lib/python3.6/dist-packages (from smart-open>=1.2.1->gensim->nlpia) (1.12.26)\n",
            "Requirement already satisfied: markdown>=2.6.8 in /usr/local/lib/python3.6/dist-packages (from tensorboard<1.16.0,>=1.15.0->tensorflow->nlpia) (3.2.1)\n",
            "Requirement already satisfied: werkzeug>=0.11.15 in /usr/local/lib/python3.6/dist-packages (from tensorboard<1.16.0,>=1.15.0->tensorflow->nlpia) (1.0.0)\n",
            "Requirement already satisfied: zipp>=0.5 in /usr/local/lib/python3.6/dist-packages (from importlib-metadata>=0.20; python_version < \"3.8\"->catalogue<1.1.0,>=0.0.7->spacy->nlpia) (3.1.0)\n",
            "Requirement already satisfied: pyzmq>=13 in /usr/local/lib/python3.6/dist-packages (from jupyter-client->ipykernel->jupyter->nlpia) (17.0.0)\n",
            "Requirement already satisfied: pickleshare in /usr/local/lib/python3.6/dist-packages (from ipython>=4.0.0->ipykernel->jupyter->nlpia) (0.7.5)\n",
            "Requirement already satisfied: decorator in /usr/local/lib/python3.6/dist-packages (from ipython>=4.0.0->ipykernel->jupyter->nlpia) (4.4.2)\n",
            "Requirement already satisfied: pexpect; sys_platform != \"win32\" in /usr/local/lib/python3.6/dist-packages (from ipython>=4.0.0->ipykernel->jupyter->nlpia) (4.8.0)\n",
            "Requirement already satisfied: simplegeneric>0.8 in /usr/local/lib/python3.6/dist-packages (from ipython>=4.0.0->ipykernel->jupyter->nlpia) (0.8.1)\n",
            "Requirement already satisfied: jsonschema!=2.5.0,>=2.4 in /usr/local/lib/python3.6/dist-packages (from nbformat>=4.2.0->ipywidgets->jupyter->nlpia) (2.6.0)\n",
            "Requirement already satisfied: MarkupSafe>=0.23 in /usr/local/lib/python3.6/dist-packages (from jinja2>=2.4->nbconvert->jupyter->nlpia) (1.1.1)\n",
            "Requirement already satisfied: webencodings in /usr/local/lib/python3.6/dist-packages (from bleach->nbconvert->jupyter->nlpia) (0.5.1)\n",
            "Requirement already satisfied: wcwidth in /usr/local/lib/python3.6/dist-packages (from prompt-toolkit<2.0.0,>=1.0.0->jupyter-console->jupyter->nlpia) (0.1.8)\n",
            "Requirement already satisfied: ptyprocess; os_name != \"nt\" in /usr/local/lib/python3.6/dist-packages (from terminado>=0.3.3; sys_platform != \"win32\"->notebook->jupyter->nlpia) (0.6.0)\n",
            "Requirement already satisfied: google-resumable-media<0.5.0dev,>=0.3.1 in /usr/local/lib/python3.6/dist-packages (from google-cloud-storage->smart-open>=1.2.1->gensim->nlpia) (0.4.1)\n",
            "Requirement already satisfied: google-cloud-core<2.0dev,>=1.0.0 in /usr/local/lib/python3.6/dist-packages (from google-cloud-storage->smart-open>=1.2.1->gensim->nlpia) (1.0.3)\n",
            "Requirement already satisfied: google-auth>=1.2.0 in /usr/local/lib/python3.6/dist-packages (from google-cloud-storage->smart-open>=1.2.1->gensim->nlpia) (1.7.2)\n",
            "Requirement already satisfied: jmespath<1.0.0,>=0.7.1 in /usr/local/lib/python3.6/dist-packages (from boto3->smart-open>=1.2.1->gensim->nlpia) (0.9.5)\n",
            "Requirement already satisfied: botocore<1.16.0,>=1.15.26 in /usr/local/lib/python3.6/dist-packages (from boto3->smart-open>=1.2.1->gensim->nlpia) (1.15.26)\n",
            "Requirement already satisfied: s3transfer<0.4.0,>=0.3.0 in /usr/local/lib/python3.6/dist-packages (from boto3->smart-open>=1.2.1->gensim->nlpia) (0.3.3)\n",
            "Requirement already satisfied: google-api-core<2.0.0dev,>=1.14.0 in /usr/local/lib/python3.6/dist-packages (from google-cloud-core<2.0dev,>=1.0.0->google-cloud-storage->smart-open>=1.2.1->gensim->nlpia) (1.16.0)\n",
            "Requirement already satisfied: pyasn1-modules>=0.2.1 in /usr/local/lib/python3.6/dist-packages (from google-auth>=1.2.0->google-cloud-storage->smart-open>=1.2.1->gensim->nlpia) (0.2.8)\n",
            "Requirement already satisfied: cachetools<3.2,>=2.0.0 in /usr/local/lib/python3.6/dist-packages (from google-auth>=1.2.0->google-cloud-storage->smart-open>=1.2.1->gensim->nlpia) (3.1.1)\n",
            "Requirement already satisfied: rsa<4.1,>=3.1.4 in /usr/local/lib/python3.6/dist-packages (from google-auth>=1.2.0->google-cloud-storage->smart-open>=1.2.1->gensim->nlpia) (4.0)\n",
            "Requirement already satisfied: docutils<0.16,>=0.10 in /usr/local/lib/python3.6/dist-packages (from botocore<1.16.0,>=1.15.26->boto3->smart-open>=1.2.1->gensim->nlpia) (0.15.2)\n",
            "Requirement already satisfied: googleapis-common-protos<2.0dev,>=1.6.0 in /usr/local/lib/python3.6/dist-packages (from google-api-core<2.0.0dev,>=1.14.0->google-cloud-core<2.0dev,>=1.0.0->google-cloud-storage->smart-open>=1.2.1->gensim->nlpia) (1.51.0)\n",
            "Requirement already satisfied: pyasn1<0.5.0,>=0.4.6 in /usr/local/lib/python3.6/dist-packages (from pyasn1-modules>=0.2.1->google-auth>=1.2.0->google-cloud-storage->smart-open>=1.2.1->gensim->nlpia) (0.4.8)\n",
            "Building wheels for collected packages: python-Levenshtein, pypandoc\n",
            "  Building wheel for python-Levenshtein (setup.py) ... \u001b[?25l\u001b[?25hdone\n",
            "  Created wheel for python-Levenshtein: filename=python_Levenshtein-0.12.0-cp36-cp36m-linux_x86_64.whl size=144805 sha256=2072560865da7d9d8d1ac09ffa4e0c678bdc9959d83492c7548615300384d646\n",
            "  Stored in directory: /root/.cache/pip/wheels/de/c2/93/660fd5f7559049268ad2dc6d81c4e39e9e36518766eaf7e342\n",
            "  Building wheel for pypandoc (setup.py) ... \u001b[?25l\u001b[?25hdone\n",
            "  Created wheel for pypandoc: filename=pypandoc-1.4-cp36-none-any.whl size=16718 sha256=fcb060076b18df0728a807a29efad17fe99ace78d8930e77aa41d6f6db285195\n",
            "  Stored in directory: /root/.cache/pip/wheels/3e/55/4f/59e0fa0914f3db52e87c0642c5fb986871dfbbf253026e639f\n",
            "Successfully built python-Levenshtein pypandoc\n",
            "Installing collected packages: html2text, python-Levenshtein, pypandoc, fuzzywuzzy, pugnlp, nlpia\n",
            "Successfully installed fuzzywuzzy-0.18.0 html2text-2020.1.16 nlpia-0.2.14 pugnlp-0.2.5 pypandoc-1.4 python-Levenshtein-0.12.0\n"
          ],
          "name": "stdout"
        }
      ]
    },
    {
      "cell_type": "code",
      "metadata": {
        "id": "NV5MD0zBinxS",
        "colab_type": "code",
        "colab": {
          "base_uri": "https://localhost:8080/",
          "height": 1000
        },
        "outputId": "b5e9180c-9048-4f74-9733-fb64aae17973"
      },
      "source": [
        "from collections import Counter\n",
        "from nltk.tokenize import TreebankWordTokenizer\n",
        "tokenizer = TreebankWordTokenizer()\n",
        "from nlpia.data.loaders import kite_text\n",
        "tokens = tokenizer.tokenize(kite_text.lower())\n",
        "tokens = [x for x in tokens if x not in stopwords]\n",
        "token_counts = Counter(tokens)\n",
        "token_counts"
      ],
      "execution_count": 11,
      "outputs": [
        {
          "output_type": "execute_result",
          "data": {
            "text/plain": [
              "Counter({\"'s\": 2,\n",
              "         '(': 1,\n",
              "         ')': 1,\n",
              "         ',': 15,\n",
              "         '.': 2,\n",
              "         ';': 2,\n",
              "         'activities': 1,\n",
              "         'aerial': 1,\n",
              "         'air': 2,\n",
              "         'along': 1,\n",
              "         'also': 3,\n",
              "         'anchor': 1,\n",
              "         'anchors': 1,\n",
              "         'anchors.': 2,\n",
              "         'angle': 1,\n",
              "         'apply': 1,\n",
              "         'around': 1,\n",
              "         'art': 1,\n",
              "         'attached.': 1,\n",
              "         'ballet': 1,\n",
              "         'balloon': 1,\n",
              "         'boat': 1,\n",
              "         'bridle': 2,\n",
              "         'buggying': 1,\n",
              "         'called': 2,\n",
              "         'competition.': 1,\n",
              "         'components': 1,\n",
              "         'comprising': 1,\n",
              "         'consists': 2,\n",
              "         'correct': 1,\n",
              "         'craft': 2,\n",
              "         'create': 1,\n",
              "         'designed': 2,\n",
              "         'different': 1,\n",
              "         'direction': 1,\n",
              "         'drag': 2,\n",
              "         'drag.': 1,\n",
              "         'e.g.': 1,\n",
              "         'even': 2,\n",
              "         'face': 1,\n",
              "         'festivals': 1,\n",
              "         'fishing': 1,\n",
              "         'fixed': 1,\n",
              "         'flight': 1,\n",
              "         'flow': 1,\n",
              "         'flown': 3,\n",
              "         'flows': 1,\n",
              "         'fluid': 1,\n",
              "         'force': 2,\n",
              "         'forces': 1,\n",
              "         'free-falling': 1,\n",
              "         'fugitive': 1,\n",
              "         'generate': 1,\n",
              "         'generated': 1,\n",
              "         'generates': 1,\n",
              "         'guide': 1,\n",
              "         'heavier-than-air': 1,\n",
              "         'high': 1,\n",
              "         'history': 1,\n",
              "         'horizontal': 1,\n",
              "         'hybrid': 1,\n",
              "         'individually': 1,\n",
              "         'interaction': 1,\n",
              "         'it.': 1,\n",
              "         'kite': 16,\n",
              "         'kite.': 1,\n",
              "         'kites': 8,\n",
              "         'kiting': 3,\n",
              "         'kiting.': 1,\n",
              "         'kytoon.': 1,\n",
              "         'landboarding': 1,\n",
              "         'large': 1,\n",
              "         'launch': 1,\n",
              "         'lift': 4,\n",
              "         'lifting': 1,\n",
              "         'lighter-than-air': 1,\n",
              "         'line': 1,\n",
              "         'lines': 1,\n",
              "         'liquids': 1,\n",
              "         'long': 1,\n",
              "         'low': 1,\n",
              "         'made': 1,\n",
              "         'man-lifting': 1,\n",
              "         'many': 1,\n",
              "         'may': 4,\n",
              "         'meets': 1,\n",
              "         'moving': 2,\n",
              "         'multi-line': 1,\n",
              "         'needed': 1,\n",
              "         'new': 1,\n",
              "         'often': 2,\n",
              "         'one': 1,\n",
              "         'opposed': 1,\n",
              "         'paragliders': 1,\n",
              "         'parakites': 1,\n",
              "         'part': 1,\n",
              "         'person': 1,\n",
              "         'point': 1,\n",
              "         'point.': 1,\n",
              "         'power': 2,\n",
              "         'practical': 1,\n",
              "         'pressure': 2,\n",
              "         'principles': 1,\n",
              "         'producing': 1,\n",
              "         'react': 1,\n",
              "         'recreation': 1,\n",
              "         'resultant': 1,\n",
              "         'running': 1,\n",
              "         'sailplane': 1,\n",
              "         'sets': 1,\n",
              "         'single': 1,\n",
              "         'snow': 1,\n",
              "         'sometimes': 1,\n",
              "         'sport': 1,\n",
              "         'static': 1,\n",
              "         'steerable': 1,\n",
              "         'still': 1,\n",
              "         'surface': 2,\n",
              "         'surfaces': 1,\n",
              "         'surfing': 1,\n",
              "         'sustains': 1,\n",
              "         'system': 1,\n",
              "         'technical': 2,\n",
              "         'tension': 1,\n",
              "         'tether': 1,\n",
              "         'tether-set-coupled': 1,\n",
              "         'tethered': 2,\n",
              "         'tethers': 2,\n",
              "         'though': 1,\n",
              "         'towing': 1,\n",
              "         'traditionally': 1,\n",
              "         'trend': 1,\n",
              "         'types': 1,\n",
              "         'untraditionally': 1,\n",
              "         'used': 2,\n",
              "         'uses.': 1,\n",
              "         'varied': 1,\n",
              "         'vector': 1,\n",
              "         'vehicle': 1,\n",
              "         'water.': 1,\n",
              "         'well': 1,\n",
              "         'wind': 2,\n",
              "         'wind.': 1,\n",
              "         'wing': 5,\n",
              "         'wings': 1,\n",
              "         'wings.': 1,\n",
              "         'worldwide.': 1})"
            ]
          },
          "metadata": {
            "tags": []
          },
          "execution_count": 11
        }
      ]
    },
    {
      "cell_type": "code",
      "metadata": {
        "id": "zVKI5W8bjHyf",
        "colab_type": "code",
        "colab": {
          "base_uri": "https://localhost:8080/",
          "height": 1000
        },
        "outputId": "dcdc37e1-8039-40fc-c51a-1f0518f0593b"
      },
      "source": [
        "kite_counts = Counter(tokens)\n",
        "kite_counts"
      ],
      "execution_count": 12,
      "outputs": [
        {
          "output_type": "execute_result",
          "data": {
            "text/plain": [
              "Counter({\"'s\": 2,\n",
              "         '(': 1,\n",
              "         ')': 1,\n",
              "         ',': 15,\n",
              "         '.': 2,\n",
              "         ';': 2,\n",
              "         'activities': 1,\n",
              "         'aerial': 1,\n",
              "         'air': 2,\n",
              "         'along': 1,\n",
              "         'also': 3,\n",
              "         'anchor': 1,\n",
              "         'anchors': 1,\n",
              "         'anchors.': 2,\n",
              "         'angle': 1,\n",
              "         'apply': 1,\n",
              "         'around': 1,\n",
              "         'art': 1,\n",
              "         'attached.': 1,\n",
              "         'ballet': 1,\n",
              "         'balloon': 1,\n",
              "         'boat': 1,\n",
              "         'bridle': 2,\n",
              "         'buggying': 1,\n",
              "         'called': 2,\n",
              "         'competition.': 1,\n",
              "         'components': 1,\n",
              "         'comprising': 1,\n",
              "         'consists': 2,\n",
              "         'correct': 1,\n",
              "         'craft': 2,\n",
              "         'create': 1,\n",
              "         'designed': 2,\n",
              "         'different': 1,\n",
              "         'direction': 1,\n",
              "         'drag': 2,\n",
              "         'drag.': 1,\n",
              "         'e.g.': 1,\n",
              "         'even': 2,\n",
              "         'face': 1,\n",
              "         'festivals': 1,\n",
              "         'fishing': 1,\n",
              "         'fixed': 1,\n",
              "         'flight': 1,\n",
              "         'flow': 1,\n",
              "         'flown': 3,\n",
              "         'flows': 1,\n",
              "         'fluid': 1,\n",
              "         'force': 2,\n",
              "         'forces': 1,\n",
              "         'free-falling': 1,\n",
              "         'fugitive': 1,\n",
              "         'generate': 1,\n",
              "         'generated': 1,\n",
              "         'generates': 1,\n",
              "         'guide': 1,\n",
              "         'heavier-than-air': 1,\n",
              "         'high': 1,\n",
              "         'history': 1,\n",
              "         'horizontal': 1,\n",
              "         'hybrid': 1,\n",
              "         'individually': 1,\n",
              "         'interaction': 1,\n",
              "         'it.': 1,\n",
              "         'kite': 16,\n",
              "         'kite.': 1,\n",
              "         'kites': 8,\n",
              "         'kiting': 3,\n",
              "         'kiting.': 1,\n",
              "         'kytoon.': 1,\n",
              "         'landboarding': 1,\n",
              "         'large': 1,\n",
              "         'launch': 1,\n",
              "         'lift': 4,\n",
              "         'lifting': 1,\n",
              "         'lighter-than-air': 1,\n",
              "         'line': 1,\n",
              "         'lines': 1,\n",
              "         'liquids': 1,\n",
              "         'long': 1,\n",
              "         'low': 1,\n",
              "         'made': 1,\n",
              "         'man-lifting': 1,\n",
              "         'many': 1,\n",
              "         'may': 4,\n",
              "         'meets': 1,\n",
              "         'moving': 2,\n",
              "         'multi-line': 1,\n",
              "         'needed': 1,\n",
              "         'new': 1,\n",
              "         'often': 2,\n",
              "         'one': 1,\n",
              "         'opposed': 1,\n",
              "         'paragliders': 1,\n",
              "         'parakites': 1,\n",
              "         'part': 1,\n",
              "         'person': 1,\n",
              "         'point': 1,\n",
              "         'point.': 1,\n",
              "         'power': 2,\n",
              "         'practical': 1,\n",
              "         'pressure': 2,\n",
              "         'principles': 1,\n",
              "         'producing': 1,\n",
              "         'react': 1,\n",
              "         'recreation': 1,\n",
              "         'resultant': 1,\n",
              "         'running': 1,\n",
              "         'sailplane': 1,\n",
              "         'sets': 1,\n",
              "         'single': 1,\n",
              "         'snow': 1,\n",
              "         'sometimes': 1,\n",
              "         'sport': 1,\n",
              "         'static': 1,\n",
              "         'steerable': 1,\n",
              "         'still': 1,\n",
              "         'surface': 2,\n",
              "         'surfaces': 1,\n",
              "         'surfing': 1,\n",
              "         'sustains': 1,\n",
              "         'system': 1,\n",
              "         'technical': 2,\n",
              "         'tension': 1,\n",
              "         'tether': 1,\n",
              "         'tether-set-coupled': 1,\n",
              "         'tethered': 2,\n",
              "         'tethers': 2,\n",
              "         'though': 1,\n",
              "         'towing': 1,\n",
              "         'traditionally': 1,\n",
              "         'trend': 1,\n",
              "         'types': 1,\n",
              "         'untraditionally': 1,\n",
              "         'used': 2,\n",
              "         'uses.': 1,\n",
              "         'varied': 1,\n",
              "         'vector': 1,\n",
              "         'vehicle': 1,\n",
              "         'water.': 1,\n",
              "         'well': 1,\n",
              "         'wind': 2,\n",
              "         'wind.': 1,\n",
              "         'wing': 5,\n",
              "         'wings': 1,\n",
              "         'wings.': 1,\n",
              "         'worldwide.': 1})"
            ]
          },
          "metadata": {
            "tags": []
          },
          "execution_count": 12
        }
      ]
    },
    {
      "cell_type": "code",
      "metadata": {
        "id": "mSRe6wRnkWV7",
        "colab_type": "code",
        "colab": {
          "base_uri": "https://localhost:8080/",
          "height": 1000
        },
        "outputId": "431554e5-53d7-45fd-b504-55299b7ff9e7"
      },
      "source": [
        "document_vector = []\n",
        "doc_length = len(tokens)\n",
        "for key,value in kite_counts.most_common():\n",
        "  print(key,\" \",value)\n",
        "  document_vector.append(value/doc_length)\n",
        "\n",
        "document_vector"
      ],
      "execution_count": 14,
      "outputs": [
        {
          "output_type": "stream",
          "text": [
            "kite   16\n",
            ",   15\n",
            "kites   8\n",
            "wing   5\n",
            "lift   4\n",
            "may   4\n",
            "also   3\n",
            "kiting   3\n",
            "flown   3\n",
            "tethered   2\n",
            "craft   2\n",
            "air   2\n",
            "consists   2\n",
            "tethers   2\n",
            "anchors.   2\n",
            "often   2\n",
            "bridle   2\n",
            "wind   2\n",
            "'s   2\n",
            "designed   2\n",
            ";   2\n",
            "moving   2\n",
            "technical   2\n",
            "even   2\n",
            "called   2\n",
            "surface   2\n",
            "pressure   2\n",
            "drag   2\n",
            "force   2\n",
            ".   2\n",
            "used   2\n",
            "power   2\n",
            "traditionally   1\n",
            "heavier-than-air   1\n",
            "surfaces   1\n",
            "react   1\n",
            "create   1\n",
            "drag.   1\n",
            "wings   1\n",
            "guide   1\n",
            "face   1\n",
            "correct   1\n",
            "angle   1\n",
            "it.   1\n",
            "needed   1\n",
            "sailplane   1\n",
            "launch   1\n",
            "tether   1\n",
            "meets   1\n",
            "single   1\n",
            "point.   1\n",
            "fixed   1\n",
            "untraditionally   1\n",
            "tether-set-coupled   1\n",
            "sets   1\n",
            "though   1\n",
            "system   1\n",
            "still   1\n",
            "kite.   1\n",
            "sustains   1\n",
            "flight   1\n",
            "generated   1\n",
            "flows   1\n",
            "around   1\n",
            "producing   1\n",
            "low   1\n",
            "high   1\n",
            "wings.   1\n",
            "interaction   1\n",
            "generates   1\n",
            "horizontal   1\n",
            "along   1\n",
            "direction   1\n",
            "wind.   1\n",
            "resultant   1\n",
            "vector   1\n",
            "components   1\n",
            "opposed   1\n",
            "tension   1\n",
            "one   1\n",
            "lines   1\n",
            "attached.   1\n",
            "anchor   1\n",
            "point   1\n",
            "line   1\n",
            "static   1\n",
            "(   1\n",
            "e.g.   1\n",
            "towing   1\n",
            "running   1\n",
            "person   1\n",
            "boat   1\n",
            "free-falling   1\n",
            "anchors   1\n",
            "paragliders   1\n",
            "fugitive   1\n",
            "parakites   1\n",
            "vehicle   1\n",
            ")   1\n",
            "principles   1\n",
            "fluid   1\n",
            "flow   1\n",
            "apply   1\n",
            "liquids   1\n",
            "water.   1\n",
            "hybrid   1\n",
            "comprising   1\n",
            "lighter-than-air   1\n",
            "balloon   1\n",
            "well   1\n",
            "lifting   1\n",
            "kytoon.   1\n",
            "long   1\n",
            "varied   1\n",
            "history   1\n",
            "many   1\n",
            "different   1\n",
            "types   1\n",
            "individually   1\n",
            "festivals   1\n",
            "worldwide.   1\n",
            "recreation   1\n",
            "art   1\n",
            "practical   1\n",
            "uses.   1\n",
            "sport   1\n",
            "aerial   1\n",
            "ballet   1\n",
            "sometimes   1\n",
            "part   1\n",
            "competition.   1\n",
            "multi-line   1\n",
            "steerable   1\n",
            "generate   1\n",
            "large   1\n",
            "forces   1\n",
            "activities   1\n",
            "surfing   1\n",
            "landboarding   1\n",
            "fishing   1\n",
            "buggying   1\n",
            "new   1\n",
            "trend   1\n",
            "snow   1\n",
            "kiting.   1\n",
            "man-lifting   1\n",
            "made   1\n"
          ],
          "name": "stdout"
        },
        {
          "output_type": "execute_result",
          "data": {
            "text/plain": [
              "[0.07207207207207207,\n",
              " 0.06756756756756757,\n",
              " 0.036036036036036036,\n",
              " 0.02252252252252252,\n",
              " 0.018018018018018018,\n",
              " 0.018018018018018018,\n",
              " 0.013513513513513514,\n",
              " 0.013513513513513514,\n",
              " 0.013513513513513514,\n",
              " 0.009009009009009009,\n",
              " 0.009009009009009009,\n",
              " 0.009009009009009009,\n",
              " 0.009009009009009009,\n",
              " 0.009009009009009009,\n",
              " 0.009009009009009009,\n",
              " 0.009009009009009009,\n",
              " 0.009009009009009009,\n",
              " 0.009009009009009009,\n",
              " 0.009009009009009009,\n",
              " 0.009009009009009009,\n",
              " 0.009009009009009009,\n",
              " 0.009009009009009009,\n",
              " 0.009009009009009009,\n",
              " 0.009009009009009009,\n",
              " 0.009009009009009009,\n",
              " 0.009009009009009009,\n",
              " 0.009009009009009009,\n",
              " 0.009009009009009009,\n",
              " 0.009009009009009009,\n",
              " 0.009009009009009009,\n",
              " 0.009009009009009009,\n",
              " 0.009009009009009009,\n",
              " 0.0045045045045045045,\n",
              " 0.0045045045045045045,\n",
              " 0.0045045045045045045,\n",
              " 0.0045045045045045045,\n",
              " 0.0045045045045045045,\n",
              " 0.0045045045045045045,\n",
              " 0.0045045045045045045,\n",
              " 0.0045045045045045045,\n",
              " 0.0045045045045045045,\n",
              " 0.0045045045045045045,\n",
              " 0.0045045045045045045,\n",
              " 0.0045045045045045045,\n",
              " 0.0045045045045045045,\n",
              " 0.0045045045045045045,\n",
              " 0.0045045045045045045,\n",
              " 0.0045045045045045045,\n",
              " 0.0045045045045045045,\n",
              " 0.0045045045045045045,\n",
              " 0.0045045045045045045,\n",
              " 0.0045045045045045045,\n",
              " 0.0045045045045045045,\n",
              " 0.0045045045045045045,\n",
              " 0.0045045045045045045,\n",
              " 0.0045045045045045045,\n",
              " 0.0045045045045045045,\n",
              " 0.0045045045045045045,\n",
              " 0.0045045045045045045,\n",
              " 0.0045045045045045045,\n",
              " 0.0045045045045045045,\n",
              " 0.0045045045045045045,\n",
              " 0.0045045045045045045,\n",
              " 0.0045045045045045045,\n",
              " 0.0045045045045045045,\n",
              " 0.0045045045045045045,\n",
              " 0.0045045045045045045,\n",
              " 0.0045045045045045045,\n",
              " 0.0045045045045045045,\n",
              " 0.0045045045045045045,\n",
              " 0.0045045045045045045,\n",
              " 0.0045045045045045045,\n",
              " 0.0045045045045045045,\n",
              " 0.0045045045045045045,\n",
              " 0.0045045045045045045,\n",
              " 0.0045045045045045045,\n",
              " 0.0045045045045045045,\n",
              " 0.0045045045045045045,\n",
              " 0.0045045045045045045,\n",
              " 0.0045045045045045045,\n",
              " 0.0045045045045045045,\n",
              " 0.0045045045045045045,\n",
              " 0.0045045045045045045,\n",
              " 0.0045045045045045045,\n",
              " 0.0045045045045045045,\n",
              " 0.0045045045045045045,\n",
              " 0.0045045045045045045,\n",
              " 0.0045045045045045045,\n",
              " 0.0045045045045045045,\n",
              " 0.0045045045045045045,\n",
              " 0.0045045045045045045,\n",
              " 0.0045045045045045045,\n",
              " 0.0045045045045045045,\n",
              " 0.0045045045045045045,\n",
              " 0.0045045045045045045,\n",
              " 0.0045045045045045045,\n",
              " 0.0045045045045045045,\n",
              " 0.0045045045045045045,\n",
              " 0.0045045045045045045,\n",
              " 0.0045045045045045045,\n",
              " 0.0045045045045045045,\n",
              " 0.0045045045045045045,\n",
              " 0.0045045045045045045,\n",
              " 0.0045045045045045045,\n",
              " 0.0045045045045045045,\n",
              " 0.0045045045045045045,\n",
              " 0.0045045045045045045,\n",
              " 0.0045045045045045045,\n",
              " 0.0045045045045045045,\n",
              " 0.0045045045045045045,\n",
              " 0.0045045045045045045,\n",
              " 0.0045045045045045045,\n",
              " 0.0045045045045045045,\n",
              " 0.0045045045045045045,\n",
              " 0.0045045045045045045,\n",
              " 0.0045045045045045045,\n",
              " 0.0045045045045045045,\n",
              " 0.0045045045045045045,\n",
              " 0.0045045045045045045,\n",
              " 0.0045045045045045045,\n",
              " 0.0045045045045045045,\n",
              " 0.0045045045045045045,\n",
              " 0.0045045045045045045,\n",
              " 0.0045045045045045045,\n",
              " 0.0045045045045045045,\n",
              " 0.0045045045045045045,\n",
              " 0.0045045045045045045,\n",
              " 0.0045045045045045045,\n",
              " 0.0045045045045045045,\n",
              " 0.0045045045045045045,\n",
              " 0.0045045045045045045,\n",
              " 0.0045045045045045045,\n",
              " 0.0045045045045045045,\n",
              " 0.0045045045045045045,\n",
              " 0.0045045045045045045,\n",
              " 0.0045045045045045045,\n",
              " 0.0045045045045045045,\n",
              " 0.0045045045045045045,\n",
              " 0.0045045045045045045,\n",
              " 0.0045045045045045045,\n",
              " 0.0045045045045045045,\n",
              " 0.0045045045045045045,\n",
              " 0.0045045045045045045,\n",
              " 0.0045045045045045045,\n",
              " 0.0045045045045045045,\n",
              " 0.0045045045045045045,\n",
              " 0.0045045045045045045]"
            ]
          },
          "metadata": {
            "tags": []
          },
          "execution_count": 14
        }
      ]
    },
    {
      "cell_type": "code",
      "metadata": {
        "id": "NJmvmeVqlMdH",
        "colab_type": "code",
        "colab": {
          "base_uri": "https://localhost:8080/",
          "height": 68
        },
        "outputId": "b020beb1-68f2-4f2e-b2aa-ff05ae847a16"
      },
      "source": [
        "docs = [\"The faster Harry got to the store, the faster and faster Harry would get home.\"]\n",
        "docs.append(\"Harry is hairy and faster than Jill.\")\n",
        "docs.append(\"Jill is not as hairy as Harry.\")\n",
        "docs"
      ],
      "execution_count": 15,
      "outputs": [
        {
          "output_type": "execute_result",
          "data": {
            "text/plain": [
              "['The faster Harry got to the store, the faster and faster Harry would get home.',\n",
              " 'Harry is hairy and faster than Jill.',\n",
              " 'Jill is not as hairy as Harry.']"
            ]
          },
          "metadata": {
            "tags": []
          },
          "execution_count": 15
        }
      ]
    },
    {
      "cell_type": "code",
      "metadata": {
        "id": "dP8CCdh8mmvT",
        "colab_type": "code",
        "colab": {
          "base_uri": "https://localhost:8080/",
          "height": 85
        },
        "outputId": "9a15cb64-585c-4248-e06d-c2cb37d1d697"
      },
      "source": [
        "doc_tokens = []\n",
        "for doc in docs:\n",
        "  print(doc)\n",
        "  doc_tokens = doc_tokens + [sorted(tokenizer.tokenize(doc.lower()))]\n",
        "\n",
        "len(doc_tokens[1])"
      ],
      "execution_count": 17,
      "outputs": [
        {
          "output_type": "stream",
          "text": [
            "The faster Harry got to the store, the faster and faster Harry would get home.\n",
            "Harry is hairy and faster than Jill.\n",
            "Jill is not as hairy as Harry.\n"
          ],
          "name": "stdout"
        },
        {
          "output_type": "execute_result",
          "data": {
            "text/plain": [
              "8"
            ]
          },
          "metadata": {
            "tags": []
          },
          "execution_count": 17
        }
      ]
    },
    {
      "cell_type": "code",
      "metadata": {
        "id": "YPWtRj2angW5",
        "colab_type": "code",
        "colab": {
          "base_uri": "https://localhost:8080/",
          "height": 340
        },
        "outputId": "47e661d1-3733-47bc-caa4-0b1775c633e8"
      },
      "source": [
        "doc_tokens"
      ],
      "execution_count": 18,
      "outputs": [
        {
          "output_type": "execute_result",
          "data": {
            "text/plain": [
              "[[',',\n",
              "  '.',\n",
              "  'and',\n",
              "  'faster',\n",
              "  'faster',\n",
              "  'faster',\n",
              "  'get',\n",
              "  'got',\n",
              "  'harry',\n",
              "  'harry',\n",
              "  'home',\n",
              "  'store',\n",
              "  'the',\n",
              "  'the',\n",
              "  'the',\n",
              "  'to',\n",
              "  'would'],\n",
              " ['.', 'and', 'faster', 'hairy', 'harry', 'is', 'jill', 'than'],\n",
              " ['.', 'as', 'as', 'hairy', 'harry', 'is', 'jill', 'not']]"
            ]
          },
          "metadata": {
            "tags": []
          },
          "execution_count": 18
        }
      ]
    },
    {
      "cell_type": "code",
      "metadata": {
        "id": "68yeavLJnxzO",
        "colab_type": "code",
        "colab": {
          "base_uri": "https://localhost:8080/",
          "height": 578
        },
        "outputId": "9384b2e0-4e9d-4d79-ea54-6677e32446d2"
      },
      "source": [
        "all_doc_tokens = sum(doc_tokens,[])\n",
        "all_doc_tokens"
      ],
      "execution_count": 19,
      "outputs": [
        {
          "output_type": "execute_result",
          "data": {
            "text/plain": [
              "[',',\n",
              " '.',\n",
              " 'and',\n",
              " 'faster',\n",
              " 'faster',\n",
              " 'faster',\n",
              " 'get',\n",
              " 'got',\n",
              " 'harry',\n",
              " 'harry',\n",
              " 'home',\n",
              " 'store',\n",
              " 'the',\n",
              " 'the',\n",
              " 'the',\n",
              " 'to',\n",
              " 'would',\n",
              " '.',\n",
              " 'and',\n",
              " 'faster',\n",
              " 'hairy',\n",
              " 'harry',\n",
              " 'is',\n",
              " 'jill',\n",
              " 'than',\n",
              " '.',\n",
              " 'as',\n",
              " 'as',\n",
              " 'hairy',\n",
              " 'harry',\n",
              " 'is',\n",
              " 'jill',\n",
              " 'not']"
            ]
          },
          "metadata": {
            "tags": []
          },
          "execution_count": 19
        }
      ]
    },
    {
      "cell_type": "code",
      "metadata": {
        "id": "fiJJdVpzn-df",
        "colab_type": "code",
        "colab": {
          "base_uri": "https://localhost:8080/",
          "height": 34
        },
        "outputId": "ede56d8f-ae61-4616-892b-22ade555743c"
      },
      "source": [
        "len(all_doc_tokens)"
      ],
      "execution_count": 20,
      "outputs": [
        {
          "output_type": "execute_result",
          "data": {
            "text/plain": [
              "33"
            ]
          },
          "metadata": {
            "tags": []
          },
          "execution_count": 20
        }
      ]
    },
    {
      "cell_type": "code",
      "metadata": {
        "id": "_nwxpQq1oKcT",
        "colab_type": "code",
        "colab": {
          "base_uri": "https://localhost:8080/",
          "height": 323
        },
        "outputId": "57061fdd-4f09-4134-9e3e-97252b7c95d3"
      },
      "source": [
        "lexicon = sorted(set(all_doc_tokens)) # removes redundant entries\n",
        "lexicon"
      ],
      "execution_count": 24,
      "outputs": [
        {
          "output_type": "execute_result",
          "data": {
            "text/plain": [
              "[',',\n",
              " '.',\n",
              " 'and',\n",
              " 'as',\n",
              " 'faster',\n",
              " 'get',\n",
              " 'got',\n",
              " 'hairy',\n",
              " 'harry',\n",
              " 'home',\n",
              " 'is',\n",
              " 'jill',\n",
              " 'not',\n",
              " 'store',\n",
              " 'than',\n",
              " 'the',\n",
              " 'to',\n",
              " 'would']"
            ]
          },
          "metadata": {
            "tags": []
          },
          "execution_count": 24
        }
      ]
    },
    {
      "cell_type": "code",
      "metadata": {
        "id": "PeFxalaYoXOo",
        "colab_type": "code",
        "colab": {
          "base_uri": "https://localhost:8080/",
          "height": 34
        },
        "outputId": "c917feb7-5144-4310-bebb-2b7681ce2131"
      },
      "source": [
        "len(lexicon)"
      ],
      "execution_count": 25,
      "outputs": [
        {
          "output_type": "execute_result",
          "data": {
            "text/plain": [
              "18"
            ]
          },
          "metadata": {
            "tags": []
          },
          "execution_count": 25
        }
      ]
    },
    {
      "cell_type": "code",
      "metadata": {
        "id": "pNvVW2Q3oiDp",
        "colab_type": "code",
        "colab": {
          "base_uri": "https://localhost:8080/",
          "height": 323
        },
        "outputId": "764589fc-34fb-4986-9687-a830e7f4feae"
      },
      "source": [
        "from collections import OrderedDict\n",
        "zero_vector = OrderedDict((token, 0) for token in lexicon)\n",
        "zero_vector"
      ],
      "execution_count": 26,
      "outputs": [
        {
          "output_type": "execute_result",
          "data": {
            "text/plain": [
              "OrderedDict([(',', 0),\n",
              "             ('.', 0),\n",
              "             ('and', 0),\n",
              "             ('as', 0),\n",
              "             ('faster', 0),\n",
              "             ('get', 0),\n",
              "             ('got', 0),\n",
              "             ('hairy', 0),\n",
              "             ('harry', 0),\n",
              "             ('home', 0),\n",
              "             ('is', 0),\n",
              "             ('jill', 0),\n",
              "             ('not', 0),\n",
              "             ('store', 0),\n",
              "             ('than', 0),\n",
              "             ('the', 0),\n",
              "             ('to', 0),\n",
              "             ('would', 0)])"
            ]
          },
          "metadata": {
            "tags": []
          },
          "execution_count": 26
        }
      ]
    },
    {
      "cell_type": "code",
      "metadata": {
        "id": "eijtbXebpAgF",
        "colab_type": "code",
        "colab": {
          "base_uri": "https://localhost:8080/",
          "height": 986
        },
        "outputId": "7d3e55da-87c7-4ea6-d3b8-98fd88a86abd"
      },
      "source": [
        "import copy\n",
        "doc_vectors = []\n",
        "for doc in docs:\n",
        "  vec = copy.copy(zero_vector)\n",
        "  tokens = tokenizer.tokenize(doc.lower())\n",
        "  token_counts = Counter(tokens)\n",
        "  print(token_counts)\n",
        "  for key,value in token_counts.items():\n",
        "    vec[key] = value/len(lexicon)\n",
        "  doc_vectors.append(vec)\n",
        "\n",
        "doc_vectors  "
      ],
      "execution_count": 30,
      "outputs": [
        {
          "output_type": "stream",
          "text": [
            "Counter({'the': 3, 'faster': 3, 'harry': 2, 'got': 1, 'to': 1, 'store': 1, ',': 1, 'and': 1, 'would': 1, 'get': 1, 'home': 1, '.': 1})\n",
            "Counter({'harry': 1, 'is': 1, 'hairy': 1, 'and': 1, 'faster': 1, 'than': 1, 'jill': 1, '.': 1})\n",
            "Counter({'as': 2, 'jill': 1, 'is': 1, 'not': 1, 'hairy': 1, 'harry': 1, '.': 1})\n"
          ],
          "name": "stdout"
        },
        {
          "output_type": "execute_result",
          "data": {
            "text/plain": [
              "[OrderedDict([(',', 0.05555555555555555),\n",
              "              ('.', 0.05555555555555555),\n",
              "              ('and', 0.05555555555555555),\n",
              "              ('as', 0),\n",
              "              ('faster', 0.16666666666666666),\n",
              "              ('get', 0.05555555555555555),\n",
              "              ('got', 0.05555555555555555),\n",
              "              ('hairy', 0),\n",
              "              ('harry', 0.1111111111111111),\n",
              "              ('home', 0.05555555555555555),\n",
              "              ('is', 0),\n",
              "              ('jill', 0),\n",
              "              ('not', 0),\n",
              "              ('store', 0.05555555555555555),\n",
              "              ('than', 0),\n",
              "              ('the', 0.16666666666666666),\n",
              "              ('to', 0.05555555555555555),\n",
              "              ('would', 0.05555555555555555)]),\n",
              " OrderedDict([(',', 0),\n",
              "              ('.', 0.05555555555555555),\n",
              "              ('and', 0.05555555555555555),\n",
              "              ('as', 0),\n",
              "              ('faster', 0.05555555555555555),\n",
              "              ('get', 0),\n",
              "              ('got', 0),\n",
              "              ('hairy', 0.05555555555555555),\n",
              "              ('harry', 0.05555555555555555),\n",
              "              ('home', 0),\n",
              "              ('is', 0.05555555555555555),\n",
              "              ('jill', 0.05555555555555555),\n",
              "              ('not', 0),\n",
              "              ('store', 0),\n",
              "              ('than', 0.05555555555555555),\n",
              "              ('the', 0),\n",
              "              ('to', 0),\n",
              "              ('would', 0)]),\n",
              " OrderedDict([(',', 0),\n",
              "              ('.', 0.05555555555555555),\n",
              "              ('and', 0),\n",
              "              ('as', 0.1111111111111111),\n",
              "              ('faster', 0),\n",
              "              ('get', 0),\n",
              "              ('got', 0),\n",
              "              ('hairy', 0.05555555555555555),\n",
              "              ('harry', 0.05555555555555555),\n",
              "              ('home', 0),\n",
              "              ('is', 0.05555555555555555),\n",
              "              ('jill', 0.05555555555555555),\n",
              "              ('not', 0.05555555555555555),\n",
              "              ('store', 0),\n",
              "              ('than', 0),\n",
              "              ('the', 0),\n",
              "              ('to', 0),\n",
              "              ('would', 0)])]"
            ]
          },
          "metadata": {
            "tags": []
          },
          "execution_count": 30
        }
      ]
    },
    {
      "cell_type": "code",
      "metadata": {
        "id": "6w45FL5xpR_V",
        "colab_type": "code",
        "colab": {}
      },
      "source": [
        ""
      ],
      "execution_count": 0,
      "outputs": []
    }
  ]
}